{
 "cells": [
  {
   "cell_type": "markdown",
   "metadata": {},
   "source": [
    "# TV Shows"
   ]
  },
  {
   "cell_type": "markdown",
   "metadata": {},
   "source": [
    "# Explore Trends in TV Show Popularity Based on Vote Count and Average."
   ]
  },
  {
   "cell_type": "markdown",
   "metadata": {},
   "source": [
    "For this task, we'll likely need to analyze data from show_votes.csv and shows.csv. This analysis will involve:\n",
    "\n",
    "Loading the relevant data from these CSV files.\n",
    "\n",
    "Merging or joining the data if they are in separate files.\n",
    "\n",
    "Analyzing the correlation between vote counts, average vote, and the popularity of the shows.\n",
    "\n",
    "Visualizing the findings to identify any clear trends or patterns.\n"
   ]
  },
  {
   "cell_type": "code",
   "execution_count": 1,
   "metadata": {},
   "outputs": [
    {
     "data": {
      "text/html": [
       "<div>\n",
       "<style scoped>\n",
       "    .dataframe tbody tr th:only-of-type {\n",
       "        vertical-align: middle;\n",
       "    }\n",
       "\n",
       "    .dataframe tbody tr th {\n",
       "        vertical-align: top;\n",
       "    }\n",
       "\n",
       "    .dataframe thead th {\n",
       "        text-align: right;\n",
       "    }\n",
       "</style>\n",
       "<table border=\"1\" class=\"dataframe\">\n",
       "  <thead>\n",
       "    <tr style=\"text-align: right;\">\n",
       "      <th></th>\n",
       "      <th>show_id</th>\n",
       "      <th>name</th>\n",
       "      <th>number_of_seasons</th>\n",
       "      <th>number_of_episodes</th>\n",
       "      <th>overview</th>\n",
       "      <th>adult</th>\n",
       "      <th>in_production</th>\n",
       "      <th>original_name</th>\n",
       "      <th>popularity</th>\n",
       "      <th>tagline</th>\n",
       "      <th>eposide_run_time</th>\n",
       "      <th>type_id</th>\n",
       "      <th>status_id</th>\n",
       "    </tr>\n",
       "  </thead>\n",
       "  <tbody>\n",
       "    <tr>\n",
       "      <th>0</th>\n",
       "      <td>1399</td>\n",
       "      <td>Game of Thrones</td>\n",
       "      <td>8</td>\n",
       "      <td>73</td>\n",
       "      <td>Seven noble families fight for control of the ...</td>\n",
       "      <td>0</td>\n",
       "      <td>0</td>\n",
       "      <td>Game of Thrones</td>\n",
       "      <td>1083.917</td>\n",
       "      <td>Winter Is Coming</td>\n",
       "      <td>0</td>\n",
       "      <td>1</td>\n",
       "      <td>1</td>\n",
       "    </tr>\n",
       "    <tr>\n",
       "      <th>1</th>\n",
       "      <td>71446</td>\n",
       "      <td>Money Heist</td>\n",
       "      <td>3</td>\n",
       "      <td>41</td>\n",
       "      <td>To carry out the biggest heist in history  a m...</td>\n",
       "      <td>0</td>\n",
       "      <td>0</td>\n",
       "      <td>La Casa de Papel</td>\n",
       "      <td>96.354</td>\n",
       "      <td>The perfect robbery.</td>\n",
       "      <td>70</td>\n",
       "      <td>1</td>\n",
       "      <td>1</td>\n",
       "    </tr>\n",
       "    <tr>\n",
       "      <th>2</th>\n",
       "      <td>66732</td>\n",
       "      <td>Stranger Things</td>\n",
       "      <td>4</td>\n",
       "      <td>34</td>\n",
       "      <td>When a young boy vanishes  a small town uncove...</td>\n",
       "      <td>0</td>\n",
       "      <td>1</td>\n",
       "      <td>Stranger Things</td>\n",
       "      <td>185.711</td>\n",
       "      <td>Every ending has a beginning.</td>\n",
       "      <td>0</td>\n",
       "      <td>1</td>\n",
       "      <td>2</td>\n",
       "    </tr>\n",
       "    <tr>\n",
       "      <th>3</th>\n",
       "      <td>1402</td>\n",
       "      <td>The Walking Dead</td>\n",
       "      <td>11</td>\n",
       "      <td>177</td>\n",
       "      <td>Sheriff's deputy Rick Grimes awakens from a co...</td>\n",
       "      <td>0</td>\n",
       "      <td>0</td>\n",
       "      <td>The Walking Dead</td>\n",
       "      <td>489.746</td>\n",
       "      <td>Fight the dead. Fear the living.</td>\n",
       "      <td>42</td>\n",
       "      <td>1</td>\n",
       "      <td>1</td>\n",
       "    </tr>\n",
       "    <tr>\n",
       "      <th>4</th>\n",
       "      <td>63174</td>\n",
       "      <td>Lucifer</td>\n",
       "      <td>6</td>\n",
       "      <td>93</td>\n",
       "      <td>Bored and unhappy as the Lord of Hell  Lucifer...</td>\n",
       "      <td>0</td>\n",
       "      <td>0</td>\n",
       "      <td>Lucifer</td>\n",
       "      <td>416.668</td>\n",
       "      <td>It's good to be bad.</td>\n",
       "      <td>45</td>\n",
       "      <td>1</td>\n",
       "      <td>1</td>\n",
       "    </tr>\n",
       "  </tbody>\n",
       "</table>\n",
       "</div>"
      ],
      "text/plain": [
       "   show_id              name  number_of_seasons  number_of_episodes  \\\n",
       "0     1399   Game of Thrones                  8                  73   \n",
       "1    71446       Money Heist                  3                  41   \n",
       "2    66732   Stranger Things                  4                  34   \n",
       "3     1402  The Walking Dead                 11                 177   \n",
       "4    63174           Lucifer                  6                  93   \n",
       "\n",
       "                                            overview  adult  in_production  \\\n",
       "0  Seven noble families fight for control of the ...      0              0   \n",
       "1  To carry out the biggest heist in history  a m...      0              0   \n",
       "2  When a young boy vanishes  a small town uncove...      0              1   \n",
       "3  Sheriff's deputy Rick Grimes awakens from a co...      0              0   \n",
       "4  Bored and unhappy as the Lord of Hell  Lucifer...      0              0   \n",
       "\n",
       "      original_name  popularity                           tagline  \\\n",
       "0   Game of Thrones    1083.917                  Winter Is Coming   \n",
       "1  La Casa de Papel      96.354              The perfect robbery.   \n",
       "2   Stranger Things     185.711     Every ending has a beginning.   \n",
       "3  The Walking Dead     489.746  Fight the dead. Fear the living.   \n",
       "4           Lucifer     416.668              It's good to be bad.   \n",
       "\n",
       "   eposide_run_time  type_id  status_id  \n",
       "0                 0        1          1  \n",
       "1                70        1          1  \n",
       "2                 0        1          2  \n",
       "3                42        1          1  \n",
       "4                45        1          1  "
      ]
     },
     "execution_count": 1,
     "metadata": {},
     "output_type": "execute_result"
    }
   ],
   "source": [
    "import pandas as pd\n",
    "\n",
    "\n",
    "# Loading the data from CSV files\n",
    "shows_df = pd.read_csv(\"/Users/ymadigital/Downloads/TV Shows/TV Shows/shows.csv\")\n",
    "show_votes_df = pd.read_csv(\"/Users/ymadigital/Downloads/TV Shows/TV Shows/show_votes.csv\")\n",
    "\n",
    "shows_df.head()"
   ]
  },
  {
   "cell_type": "code",
   "execution_count": 2,
   "metadata": {},
   "outputs": [
    {
     "data": {
      "text/html": [
       "<div>\n",
       "<style scoped>\n",
       "    .dataframe tbody tr th:only-of-type {\n",
       "        vertical-align: middle;\n",
       "    }\n",
       "\n",
       "    .dataframe tbody tr th {\n",
       "        vertical-align: top;\n",
       "    }\n",
       "\n",
       "    .dataframe thead th {\n",
       "        text-align: right;\n",
       "    }\n",
       "</style>\n",
       "<table border=\"1\" class=\"dataframe\">\n",
       "  <thead>\n",
       "    <tr style=\"text-align: right;\">\n",
       "      <th></th>\n",
       "      <th>vote_count</th>\n",
       "      <th>vote_average</th>\n",
       "      <th>show_id</th>\n",
       "    </tr>\n",
       "  </thead>\n",
       "  <tbody>\n",
       "    <tr>\n",
       "      <th>0</th>\n",
       "      <td>21857</td>\n",
       "      <td>8.442</td>\n",
       "      <td>1399</td>\n",
       "    </tr>\n",
       "    <tr>\n",
       "      <th>1</th>\n",
       "      <td>17836</td>\n",
       "      <td>8.257</td>\n",
       "      <td>71446</td>\n",
       "    </tr>\n",
       "    <tr>\n",
       "      <th>2</th>\n",
       "      <td>16161</td>\n",
       "      <td>8.624</td>\n",
       "      <td>66732</td>\n",
       "    </tr>\n",
       "    <tr>\n",
       "      <th>3</th>\n",
       "      <td>15432</td>\n",
       "      <td>8.121</td>\n",
       "      <td>1402</td>\n",
       "    </tr>\n",
       "    <tr>\n",
       "      <th>4</th>\n",
       "      <td>13870</td>\n",
       "      <td>8.486</td>\n",
       "      <td>63174</td>\n",
       "    </tr>\n",
       "  </tbody>\n",
       "</table>\n",
       "</div>"
      ],
      "text/plain": [
       "   vote_count  vote_average  show_id\n",
       "0       21857         8.442     1399\n",
       "1       17836         8.257    71446\n",
       "2       16161         8.624    66732\n",
       "3       15432         8.121     1402\n",
       "4       13870         8.486    63174"
      ]
     },
     "execution_count": 2,
     "metadata": {},
     "output_type": "execute_result"
    }
   ],
   "source": [
    "show_votes_df.head()"
   ]
  },
  {
   "cell_type": "code",
   "execution_count": 3,
   "metadata": {},
   "outputs": [
    {
     "data": {
      "text/html": [
       "<div>\n",
       "<style scoped>\n",
       "    .dataframe tbody tr th:only-of-type {\n",
       "        vertical-align: middle;\n",
       "    }\n",
       "\n",
       "    .dataframe tbody tr th {\n",
       "        vertical-align: top;\n",
       "    }\n",
       "\n",
       "    .dataframe thead th {\n",
       "        text-align: right;\n",
       "    }\n",
       "</style>\n",
       "<table border=\"1\" class=\"dataframe\">\n",
       "  <thead>\n",
       "    <tr style=\"text-align: right;\">\n",
       "      <th></th>\n",
       "      <th>show_id</th>\n",
       "      <th>name</th>\n",
       "      <th>number_of_seasons</th>\n",
       "      <th>number_of_episodes</th>\n",
       "      <th>overview</th>\n",
       "      <th>adult</th>\n",
       "      <th>in_production</th>\n",
       "      <th>original_name</th>\n",
       "      <th>popularity</th>\n",
       "      <th>tagline</th>\n",
       "      <th>eposide_run_time</th>\n",
       "      <th>type_id</th>\n",
       "      <th>status_id</th>\n",
       "      <th>vote_count</th>\n",
       "      <th>vote_average</th>\n",
       "    </tr>\n",
       "  </thead>\n",
       "  <tbody>\n",
       "    <tr>\n",
       "      <th>0</th>\n",
       "      <td>1399</td>\n",
       "      <td>Game of Thrones</td>\n",
       "      <td>8</td>\n",
       "      <td>73</td>\n",
       "      <td>Seven noble families fight for control of the ...</td>\n",
       "      <td>0</td>\n",
       "      <td>0</td>\n",
       "      <td>Game of Thrones</td>\n",
       "      <td>1083.917</td>\n",
       "      <td>Winter Is Coming</td>\n",
       "      <td>0</td>\n",
       "      <td>1</td>\n",
       "      <td>1</td>\n",
       "      <td>21857</td>\n",
       "      <td>8.442</td>\n",
       "    </tr>\n",
       "    <tr>\n",
       "      <th>1</th>\n",
       "      <td>71446</td>\n",
       "      <td>Money Heist</td>\n",
       "      <td>3</td>\n",
       "      <td>41</td>\n",
       "      <td>To carry out the biggest heist in history  a m...</td>\n",
       "      <td>0</td>\n",
       "      <td>0</td>\n",
       "      <td>La Casa de Papel</td>\n",
       "      <td>96.354</td>\n",
       "      <td>The perfect robbery.</td>\n",
       "      <td>70</td>\n",
       "      <td>1</td>\n",
       "      <td>1</td>\n",
       "      <td>17836</td>\n",
       "      <td>8.257</td>\n",
       "    </tr>\n",
       "    <tr>\n",
       "      <th>2</th>\n",
       "      <td>66732</td>\n",
       "      <td>Stranger Things</td>\n",
       "      <td>4</td>\n",
       "      <td>34</td>\n",
       "      <td>When a young boy vanishes  a small town uncove...</td>\n",
       "      <td>0</td>\n",
       "      <td>1</td>\n",
       "      <td>Stranger Things</td>\n",
       "      <td>185.711</td>\n",
       "      <td>Every ending has a beginning.</td>\n",
       "      <td>0</td>\n",
       "      <td>1</td>\n",
       "      <td>2</td>\n",
       "      <td>16161</td>\n",
       "      <td>8.624</td>\n",
       "    </tr>\n",
       "    <tr>\n",
       "      <th>3</th>\n",
       "      <td>1402</td>\n",
       "      <td>The Walking Dead</td>\n",
       "      <td>11</td>\n",
       "      <td>177</td>\n",
       "      <td>Sheriff's deputy Rick Grimes awakens from a co...</td>\n",
       "      <td>0</td>\n",
       "      <td>0</td>\n",
       "      <td>The Walking Dead</td>\n",
       "      <td>489.746</td>\n",
       "      <td>Fight the dead. Fear the living.</td>\n",
       "      <td>42</td>\n",
       "      <td>1</td>\n",
       "      <td>1</td>\n",
       "      <td>15432</td>\n",
       "      <td>8.121</td>\n",
       "    </tr>\n",
       "    <tr>\n",
       "      <th>4</th>\n",
       "      <td>63174</td>\n",
       "      <td>Lucifer</td>\n",
       "      <td>6</td>\n",
       "      <td>93</td>\n",
       "      <td>Bored and unhappy as the Lord of Hell  Lucifer...</td>\n",
       "      <td>0</td>\n",
       "      <td>0</td>\n",
       "      <td>Lucifer</td>\n",
       "      <td>416.668</td>\n",
       "      <td>It's good to be bad.</td>\n",
       "      <td>45</td>\n",
       "      <td>1</td>\n",
       "      <td>1</td>\n",
       "      <td>13870</td>\n",
       "      <td>8.486</td>\n",
       "    </tr>\n",
       "  </tbody>\n",
       "</table>\n",
       "</div>"
      ],
      "text/plain": [
       "   show_id              name  number_of_seasons  number_of_episodes  \\\n",
       "0     1399   Game of Thrones                  8                  73   \n",
       "1    71446       Money Heist                  3                  41   \n",
       "2    66732   Stranger Things                  4                  34   \n",
       "3     1402  The Walking Dead                 11                 177   \n",
       "4    63174           Lucifer                  6                  93   \n",
       "\n",
       "                                            overview  adult  in_production  \\\n",
       "0  Seven noble families fight for control of the ...      0              0   \n",
       "1  To carry out the biggest heist in history  a m...      0              0   \n",
       "2  When a young boy vanishes  a small town uncove...      0              1   \n",
       "3  Sheriff's deputy Rick Grimes awakens from a co...      0              0   \n",
       "4  Bored and unhappy as the Lord of Hell  Lucifer...      0              0   \n",
       "\n",
       "      original_name  popularity                           tagline  \\\n",
       "0   Game of Thrones    1083.917                  Winter Is Coming   \n",
       "1  La Casa de Papel      96.354              The perfect robbery.   \n",
       "2   Stranger Things     185.711     Every ending has a beginning.   \n",
       "3  The Walking Dead     489.746  Fight the dead. Fear the living.   \n",
       "4           Lucifer     416.668              It's good to be bad.   \n",
       "\n",
       "   eposide_run_time  type_id  status_id  vote_count  vote_average  \n",
       "0                 0        1          1       21857         8.442  \n",
       "1                70        1          1       17836         8.257  \n",
       "2                 0        1          2       16161         8.624  \n",
       "3                42        1          1       15432         8.121  \n",
       "4                45        1          1       13870         8.486  "
      ]
     },
     "execution_count": 3,
     "metadata": {},
     "output_type": "execute_result"
    }
   ],
   "source": [
    "# Merging the datasets on 'show_id'\n",
    "merged_df = pd.merge(shows_df, show_votes_df, on='show_id')\n",
    "\n",
    "# Checking the first few rows of the merged dataframe\n",
    "merged_head = merged_df.head()\n",
    "\n",
    "# Preparing for correlation analysis between vote_count, vote_average, and popularity\n",
    "correlation = merged_df[['vote_count', 'vote_average', 'popularity']].corr()\n",
    "\n",
    "merged_head"
   ]
  },
  {
   "cell_type": "code",
   "execution_count": 4,
   "metadata": {},
   "outputs": [
    {
     "data": {
      "text/html": [
       "<div>\n",
       "<style scoped>\n",
       "    .dataframe tbody tr th:only-of-type {\n",
       "        vertical-align: middle;\n",
       "    }\n",
       "\n",
       "    .dataframe tbody tr th {\n",
       "        vertical-align: top;\n",
       "    }\n",
       "\n",
       "    .dataframe thead th {\n",
       "        text-align: right;\n",
       "    }\n",
       "</style>\n",
       "<table border=\"1\" class=\"dataframe\">\n",
       "  <thead>\n",
       "    <tr style=\"text-align: right;\">\n",
       "      <th></th>\n",
       "      <th>vote_count</th>\n",
       "      <th>vote_average</th>\n",
       "      <th>popularity</th>\n",
       "    </tr>\n",
       "  </thead>\n",
       "  <tbody>\n",
       "    <tr>\n",
       "      <th>vote_count</th>\n",
       "      <td>1.000000</td>\n",
       "      <td>0.110091</td>\n",
       "      <td>0.229660</td>\n",
       "    </tr>\n",
       "    <tr>\n",
       "      <th>vote_average</th>\n",
       "      <td>0.110091</td>\n",
       "      <td>1.000000</td>\n",
       "      <td>0.131836</td>\n",
       "    </tr>\n",
       "    <tr>\n",
       "      <th>popularity</th>\n",
       "      <td>0.229660</td>\n",
       "      <td>0.131836</td>\n",
       "      <td>1.000000</td>\n",
       "    </tr>\n",
       "  </tbody>\n",
       "</table>\n",
       "</div>"
      ],
      "text/plain": [
       "              vote_count  vote_average  popularity\n",
       "vote_count      1.000000      0.110091    0.229660\n",
       "vote_average    0.110091      1.000000    0.131836\n",
       "popularity      0.229660      0.131836    1.000000"
      ]
     },
     "execution_count": 4,
     "metadata": {},
     "output_type": "execute_result"
    }
   ],
   "source": [
    "correlation"
   ]
  },
  {
   "cell_type": "markdown",
   "metadata": {},
   "source": [
    "**Vote Count and Popularity:** A correlation coefficient of approximately **0.23** This indicates a weak positive relationship between the number of votes a show receives and its popularity.\n",
    "\n",
    "**Vote Average and Popularity:** A correlation coefficient of approximately **0.13** This suggests an even weaker positive relationship between the average vote and the show's popularity.\n",
    "\n",
    "**Vote Count and Vote Average:** A correlation coefficient of approximately **0.11** This indicates a very weak positive relationship between the number of votes and the average vote."
   ]
  },
  {
   "cell_type": "code",
   "execution_count": 5,
   "metadata": {},
   "outputs": [
    {
     "data": {
      "image/png": "[encoded data removed]",
      "text/plain": [
       "<Figure size 1800x600 with 3 Axes>"
      ]
     },
     "metadata": {},
     "output_type": "display_data"
    }
   ],
   "source": [
    "import matplotlib.pyplot as plt\n",
    "import seaborn as sns\n",
    "\n",
    "# Setting the aesthetic style of the plots\n",
    "sns.set(style=\"whitegrid\")\n",
    "\n",
    "# Creating a figure with 3 subplots\n",
    "fig, axes = plt.subplots(1, 3, figsize=(18, 6))\n",
    "\n",
    "# Scatter plot for Vote Count vs Popularity\n",
    "sns.scatterplot(ax=axes[0], data=merged_df, x='vote_count', y='popularity')\n",
    "axes[0].set_title('Vote Count vs Popularity')\n",
    "axes[0].set_xlabel('Vote Count')\n",
    "axes[0].set_ylabel('Popularity')\n",
    "\n",
    "# Scatter plot for Vote Average vs Popularity\n",
    "sns.scatterplot(ax=axes[1], data=merged_df, x='vote_average', y='popularity')\n",
    "axes[1].set_title('Vote Average vs Popularity')\n",
    "axes[1].set_xlabel('Vote Average')\n",
    "axes[1].set_ylabel('Popularity')\n",
    "\n",
    "# Scatter plot for Vote Count vs Vote Average\n",
    "sns.scatterplot(ax=axes[2], data=merged_df, x='vote_count', y='vote_average')\n",
    "axes[2].set_title('Vote Count vs Vote Average')\n",
    "axes[2].set_xlabel('Vote Count')\n",
    "axes[2].set_ylabel('Vote Average')\n",
    "\n",
    "# Adjusting layout\n",
    "plt.tight_layout()\n",
    "\n",
    "# Displaying the plots\n",
    "plt.show()"
   ]
  },
  {
   "cell_type": "markdown",
   "metadata": {},
   "source": [
    "**Vote Count vs Popularity:** This scatter plot shows a positive trend, suggesting that shows with more votes tend to have higher popularity, though the relationship is not strongly linear. There are shows with a high number of votes that vary widely in popularity.\n",
    "\n",
    "**Vote Average vs Popularity:** The plot indicates a weak positive trend. It shows that higher-rated shows (vote average) can have varying levels of popularity. It's notable that most shows cluster around a certain range of vote averages.\n",
    "\n",
    "**Vote Count vs Vote Average:** This plot illustrates a weak relationship between the number of votes a show receives and its average rating. While there are shows with high vote counts and high averages, the spread is quite broad."
   ]
  },
  {
   "cell_type": "markdown",
   "metadata": {},
   "source": [
    "# Analyze TV Show Genres to Identify the Most Popular Genres or Combinations of Genres."
   ]
  },
  {
   "cell_type": "markdown",
   "metadata": {},
   "source": [
    "For this analysis, we will need to use data from genres.csv and potentially merge it with shows.csv to get information on show popularity. The steps would include:\n",
    "\n",
    "Loading and examining the genres.csv file to understand its structure.\n",
    "\n",
    "Merging it with the shows.csv data to associate genres with specific TV shows.\n",
    "\n",
    "Analyzing the data to identify the most popular genres or combinations of genres."
   ]
  },
  {
   "cell_type": "code",
   "execution_count": 6,
   "metadata": {},
   "outputs": [
    {
     "data": {
      "text/html": [
       "<div>\n",
       "<style scoped>\n",
       "    .dataframe tbody tr th:only-of-type {\n",
       "        vertical-align: middle;\n",
       "    }\n",
       "\n",
       "    .dataframe tbody tr th {\n",
       "        vertical-align: top;\n",
       "    }\n",
       "\n",
       "    .dataframe thead th {\n",
       "        text-align: right;\n",
       "    }\n",
       "</style>\n",
       "<table border=\"1\" class=\"dataframe\">\n",
       "  <thead>\n",
       "    <tr style=\"text-align: right;\">\n",
       "      <th></th>\n",
       "      <th>show_id</th>\n",
       "      <th>genre_type_id</th>\n",
       "    </tr>\n",
       "  </thead>\n",
       "  <tbody>\n",
       "    <tr>\n",
       "      <th>0</th>\n",
       "      <td>1399</td>\n",
       "      <td>7</td>\n",
       "    </tr>\n",
       "    <tr>\n",
       "      <th>1</th>\n",
       "      <td>1399</td>\n",
       "      <td>12</td>\n",
       "    </tr>\n",
       "    <tr>\n",
       "      <th>2</th>\n",
       "      <td>1399</td>\n",
       "      <td>16</td>\n",
       "    </tr>\n",
       "    <tr>\n",
       "      <th>3</th>\n",
       "      <td>71446</td>\n",
       "      <td>4</td>\n",
       "    </tr>\n",
       "    <tr>\n",
       "      <th>4</th>\n",
       "      <td>71446</td>\n",
       "      <td>12</td>\n",
       "    </tr>\n",
       "  </tbody>\n",
       "</table>\n",
       "</div>"
      ],
      "text/plain": [
       "   show_id  genre_type_id\n",
       "0     1399              7\n",
       "1     1399             12\n",
       "2     1399             16\n",
       "3    71446              4\n",
       "4    71446             12"
      ]
     },
     "execution_count": 6,
     "metadata": {},
     "output_type": "execute_result"
    }
   ],
   "source": [
    "genres_df = pd.read_csv('/Users/ymadigital/Downloads/TV Shows/TV Shows/genres.csv')\n",
    "genres_df.head()\n"
   ]
  },
  {
   "cell_type": "code",
   "execution_count": 7,
   "metadata": {},
   "outputs": [
    {
     "data": {
      "text/html": [
       "<div>\n",
       "<style scoped>\n",
       "    .dataframe tbody tr th:only-of-type {\n",
       "        vertical-align: middle;\n",
       "    }\n",
       "\n",
       "    .dataframe tbody tr th {\n",
       "        vertical-align: top;\n",
       "    }\n",
       "\n",
       "    .dataframe thead th {\n",
       "        text-align: right;\n",
       "    }\n",
       "</style>\n",
       "<table border=\"1\" class=\"dataframe\">\n",
       "  <thead>\n",
       "    <tr style=\"text-align: right;\">\n",
       "      <th></th>\n",
       "      <th>genre_type_id</th>\n",
       "      <th>genre_name</th>\n",
       "    </tr>\n",
       "  </thead>\n",
       "  <tbody>\n",
       "    <tr>\n",
       "      <th>0</th>\n",
       "      <td>1</td>\n",
       "      <td>Romance</td>\n",
       "    </tr>\n",
       "    <tr>\n",
       "      <th>1</th>\n",
       "      <td>2</td>\n",
       "      <td>Kids</td>\n",
       "    </tr>\n",
       "    <tr>\n",
       "      <th>2</th>\n",
       "      <td>3</td>\n",
       "      <td>Comedy</td>\n",
       "    </tr>\n",
       "    <tr>\n",
       "      <th>3</th>\n",
       "      <td>4</td>\n",
       "      <td>Crime</td>\n",
       "    </tr>\n",
       "    <tr>\n",
       "      <th>4</th>\n",
       "      <td>5</td>\n",
       "      <td>Musical</td>\n",
       "    </tr>\n",
       "  </tbody>\n",
       "</table>\n",
       "</div>"
      ],
      "text/plain": [
       "   genre_type_id genre_name\n",
       "0              1    Romance\n",
       "1              2       Kids\n",
       "2              3     Comedy\n",
       "3              4      Crime\n",
       "4              5    Musical"
      ]
     },
     "execution_count": 7,
     "metadata": {},
     "output_type": "execute_result"
    }
   ],
   "source": [
    "genre_types_df = pd.read_csv('/Users/ymadigital/Downloads/TV Shows/TV Shows/genre_types.csv')\n",
    "genre_types_df.head()"
   ]
  },
  {
   "cell_type": "code",
   "execution_count": 8,
   "metadata": {},
   "outputs": [
    {
     "data": {
      "text/html": [
       "<div>\n",
       "<style scoped>\n",
       "    .dataframe tbody tr th:only-of-type {\n",
       "        vertical-align: middle;\n",
       "    }\n",
       "\n",
       "    .dataframe tbody tr th {\n",
       "        vertical-align: top;\n",
       "    }\n",
       "\n",
       "    .dataframe thead th {\n",
       "        text-align: right;\n",
       "    }\n",
       "</style>\n",
       "<table border=\"1\" class=\"dataframe\">\n",
       "  <thead>\n",
       "    <tr style=\"text-align: right;\">\n",
       "      <th></th>\n",
       "      <th>show_id</th>\n",
       "      <th>name</th>\n",
       "      <th>number_of_seasons</th>\n",
       "      <th>number_of_episodes</th>\n",
       "      <th>overview</th>\n",
       "      <th>adult</th>\n",
       "      <th>in_production</th>\n",
       "      <th>original_name</th>\n",
       "      <th>popularity</th>\n",
       "      <th>tagline</th>\n",
       "      <th>eposide_run_time</th>\n",
       "      <th>type_id</th>\n",
       "      <th>status_id</th>\n",
       "      <th>vote_count</th>\n",
       "      <th>vote_average</th>\n",
       "      <th>genre_type_id</th>\n",
       "      <th>genre_name</th>\n",
       "    </tr>\n",
       "  </thead>\n",
       "  <tbody>\n",
       "    <tr>\n",
       "      <th>0</th>\n",
       "      <td>1399</td>\n",
       "      <td>Game of Thrones</td>\n",
       "      <td>8</td>\n",
       "      <td>73</td>\n",
       "      <td>Seven noble families fight for control of the ...</td>\n",
       "      <td>0</td>\n",
       "      <td>0</td>\n",
       "      <td>Game of Thrones</td>\n",
       "      <td>1083.917</td>\n",
       "      <td>Winter Is Coming</td>\n",
       "      <td>0</td>\n",
       "      <td>1</td>\n",
       "      <td>1</td>\n",
       "      <td>21857</td>\n",
       "      <td>8.442</td>\n",
       "      <td>7</td>\n",
       "      <td>Sci-Fi &amp; Fantasy</td>\n",
       "    </tr>\n",
       "    <tr>\n",
       "      <th>1</th>\n",
       "      <td>1399</td>\n",
       "      <td>Game of Thrones</td>\n",
       "      <td>8</td>\n",
       "      <td>73</td>\n",
       "      <td>Seven noble families fight for control of the ...</td>\n",
       "      <td>0</td>\n",
       "      <td>0</td>\n",
       "      <td>Game of Thrones</td>\n",
       "      <td>1083.917</td>\n",
       "      <td>Winter Is Coming</td>\n",
       "      <td>0</td>\n",
       "      <td>1</td>\n",
       "      <td>1</td>\n",
       "      <td>21857</td>\n",
       "      <td>8.442</td>\n",
       "      <td>12</td>\n",
       "      <td>Drama</td>\n",
       "    </tr>\n",
       "    <tr>\n",
       "      <th>2</th>\n",
       "      <td>1399</td>\n",
       "      <td>Game of Thrones</td>\n",
       "      <td>8</td>\n",
       "      <td>73</td>\n",
       "      <td>Seven noble families fight for control of the ...</td>\n",
       "      <td>0</td>\n",
       "      <td>0</td>\n",
       "      <td>Game of Thrones</td>\n",
       "      <td>1083.917</td>\n",
       "      <td>Winter Is Coming</td>\n",
       "      <td>0</td>\n",
       "      <td>1</td>\n",
       "      <td>1</td>\n",
       "      <td>21857</td>\n",
       "      <td>8.442</td>\n",
       "      <td>16</td>\n",
       "      <td>Action &amp; Adventure</td>\n",
       "    </tr>\n",
       "    <tr>\n",
       "      <th>3</th>\n",
       "      <td>71446</td>\n",
       "      <td>Money Heist</td>\n",
       "      <td>3</td>\n",
       "      <td>41</td>\n",
       "      <td>To carry out the biggest heist in history  a m...</td>\n",
       "      <td>0</td>\n",
       "      <td>0</td>\n",
       "      <td>La Casa de Papel</td>\n",
       "      <td>96.354</td>\n",
       "      <td>The perfect robbery.</td>\n",
       "      <td>70</td>\n",
       "      <td>1</td>\n",
       "      <td>1</td>\n",
       "      <td>17836</td>\n",
       "      <td>8.257</td>\n",
       "      <td>4</td>\n",
       "      <td>Crime</td>\n",
       "    </tr>\n",
       "    <tr>\n",
       "      <th>4</th>\n",
       "      <td>71446</td>\n",
       "      <td>Money Heist</td>\n",
       "      <td>3</td>\n",
       "      <td>41</td>\n",
       "      <td>To carry out the biggest heist in history  a m...</td>\n",
       "      <td>0</td>\n",
       "      <td>0</td>\n",
       "      <td>La Casa de Papel</td>\n",
       "      <td>96.354</td>\n",
       "      <td>The perfect robbery.</td>\n",
       "      <td>70</td>\n",
       "      <td>1</td>\n",
       "      <td>1</td>\n",
       "      <td>17836</td>\n",
       "      <td>8.257</td>\n",
       "      <td>12</td>\n",
       "      <td>Drama</td>\n",
       "    </tr>\n",
       "  </tbody>\n",
       "</table>\n",
       "</div>"
      ],
      "text/plain": [
       "   show_id             name  number_of_seasons  number_of_episodes  \\\n",
       "0     1399  Game of Thrones                  8                  73   \n",
       "1     1399  Game of Thrones                  8                  73   \n",
       "2     1399  Game of Thrones                  8                  73   \n",
       "3    71446      Money Heist                  3                  41   \n",
       "4    71446      Money Heist                  3                  41   \n",
       "\n",
       "                                            overview  adult  in_production  \\\n",
       "0  Seven noble families fight for control of the ...      0              0   \n",
       "1  Seven noble families fight for control of the ...      0              0   \n",
       "2  Seven noble families fight for control of the ...      0              0   \n",
       "3  To carry out the biggest heist in history  a m...      0              0   \n",
       "4  To carry out the biggest heist in history  a m...      0              0   \n",
       "\n",
       "      original_name  popularity               tagline  eposide_run_time  \\\n",
       "0   Game of Thrones    1083.917      Winter Is Coming                 0   \n",
       "1   Game of Thrones    1083.917      Winter Is Coming                 0   \n",
       "2   Game of Thrones    1083.917      Winter Is Coming                 0   \n",
       "3  La Casa de Papel      96.354  The perfect robbery.                70   \n",
       "4  La Casa de Papel      96.354  The perfect robbery.                70   \n",
       "\n",
       "   type_id  status_id  vote_count  vote_average  genre_type_id  \\\n",
       "0        1          1       21857         8.442              7   \n",
       "1        1          1       21857         8.442             12   \n",
       "2        1          1       21857         8.442             16   \n",
       "3        1          1       17836         8.257              4   \n",
       "4        1          1       17836         8.257             12   \n",
       "\n",
       "           genre_name  \n",
       "0    Sci-Fi & Fantasy  \n",
       "1               Drama  \n",
       "2  Action & Adventure  \n",
       "3               Crime  \n",
       "4               Drama  "
      ]
     },
     "execution_count": 8,
     "metadata": {},
     "output_type": "execute_result"
    }
   ],
   "source": [
    "# Directly specifying the path to the genre_types.csv file\n",
    "genre_types_file = '/Users/ymadigital/Downloads/TV Shows/TV Shows/genre_types.csv'\n",
    "\n",
    "try:\n",
    "    # Directly loading the genre types file\n",
    "    genre_types_df = pd.read_csv(genre_types_file)\n",
    "    # Merging with genres_df\n",
    "    genres_merged_df = pd.merge(genres_df, genre_types_df, on='genre_type_id', how='left')\n",
    "except Exception as e:\n",
    "    # Handling any errors during file loading or merging\n",
    "    genres_merged_df = str(e)\n",
    "\n",
    "# Merging the genres data with the shows data\n",
    "shows_genres_merged_df = pd.merge(merged_df, genres_merged_df, on='show_id')\n",
    "\n",
    "# Checking the first few rows of the merged dataframe\n",
    "shows_genres_merged_head = shows_genres_merged_df.head()\n",
    "\n",
    "shows_genres_merged_head"
   ]
  },
  {
   "cell_type": "code",
   "execution_count": 9,
   "metadata": {},
   "outputs": [
    {
     "data": {
      "text/html": [
       "<div>\n",
       "<style scoped>\n",
       "    .dataframe tbody tr th:only-of-type {\n",
       "        vertical-align: middle;\n",
       "    }\n",
       "\n",
       "    .dataframe tbody tr th {\n",
       "        vertical-align: top;\n",
       "    }\n",
       "\n",
       "    .dataframe thead th {\n",
       "        text-align: right;\n",
       "    }\n",
       "</style>\n",
       "<table border=\"1\" class=\"dataframe\">\n",
       "  <thead>\n",
       "    <tr style=\"text-align: right;\">\n",
       "      <th></th>\n",
       "      <th>genre_name</th>\n",
       "      <th>popularity</th>\n",
       "    </tr>\n",
       "  </thead>\n",
       "  <tbody>\n",
       "    <tr>\n",
       "      <th>0</th>\n",
       "      <td>Soap</td>\n",
       "      <td>32.297248</td>\n",
       "    </tr>\n",
       "    <tr>\n",
       "      <th>1</th>\n",
       "      <td>Western</td>\n",
       "      <td>27.723211</td>\n",
       "    </tr>\n",
       "    <tr>\n",
       "      <th>2</th>\n",
       "      <td>Talk</td>\n",
       "      <td>22.605608</td>\n",
       "    </tr>\n",
       "    <tr>\n",
       "      <th>3</th>\n",
       "      <td>Sci-Fi &amp; Fantasy</td>\n",
       "      <td>18.969727</td>\n",
       "    </tr>\n",
       "    <tr>\n",
       "      <th>4</th>\n",
       "      <td>Action &amp; Adventure</td>\n",
       "      <td>18.594814</td>\n",
       "    </tr>\n",
       "    <tr>\n",
       "      <th>5</th>\n",
       "      <td>News</td>\n",
       "      <td>16.488839</td>\n",
       "    </tr>\n",
       "    <tr>\n",
       "      <th>6</th>\n",
       "      <td>Animation</td>\n",
       "      <td>14.059648</td>\n",
       "    </tr>\n",
       "    <tr>\n",
       "      <th>7</th>\n",
       "      <td>Musical</td>\n",
       "      <td>13.784000</td>\n",
       "    </tr>\n",
       "    <tr>\n",
       "      <th>8</th>\n",
       "      <td>Kids</td>\n",
       "      <td>13.199392</td>\n",
       "    </tr>\n",
       "    <tr>\n",
       "      <th>9</th>\n",
       "      <td>Family</td>\n",
       "      <td>13.117231</td>\n",
       "    </tr>\n",
       "  </tbody>\n",
       "</table>\n",
       "</div>"
      ],
      "text/plain": [
       "           genre_name  popularity\n",
       "0                Soap   32.297248\n",
       "1             Western   27.723211\n",
       "2                Talk   22.605608\n",
       "3    Sci-Fi & Fantasy   18.969727\n",
       "4  Action & Adventure   18.594814\n",
       "5                News   16.488839\n",
       "6           Animation   14.059648\n",
       "7             Musical   13.784000\n",
       "8                Kids   13.199392\n",
       "9              Family   13.117231"
      ]
     },
     "execution_count": 9,
     "metadata": {},
     "output_type": "execute_result"
    }
   ],
   "source": [
    "# Aggregating popularity scores for each genre\n",
    "genre_popularity = shows_genres_merged_df.groupby('genre_name')['popularity'].mean().sort_values(ascending=False)\n",
    "\n",
    "# Converting the series to a dataframe for better visualization\n",
    "genre_popularity_df = genre_popularity.reset_index()\n",
    "\n",
    "# Displaying the top genres based on average popularity\n",
    "genre_popularity_df.head(10)"
   ]
  },
  {
   "cell_type": "markdown",
   "metadata": {},
   "source": [
    "##### **This ranking indicates that genres like Soap, Western, and Talk shows are among the most popular, based on average popularity scores.**"
   ]
  },
  {
   "cell_type": "code",
   "execution_count": 10,
   "metadata": {},
   "outputs": [
    {
     "data": {
      "text/html": [
       "<div>\n",
       "<style scoped>\n",
       "    .dataframe tbody tr th:only-of-type {\n",
       "        vertical-align: middle;\n",
       "    }\n",
       "\n",
       "    .dataframe tbody tr th {\n",
       "        vertical-align: top;\n",
       "    }\n",
       "\n",
       "    .dataframe thead th {\n",
       "        text-align: right;\n",
       "    }\n",
       "</style>\n",
       "<table border=\"1\" class=\"dataframe\">\n",
       "  <thead>\n",
       "    <tr style=\"text-align: right;\">\n",
       "      <th></th>\n",
       "      <th>genre_combinations</th>\n",
       "      <th>popularity</th>\n",
       "    </tr>\n",
       "  </thead>\n",
       "  <tbody>\n",
       "    <tr>\n",
       "      <th>0</th>\n",
       "      <td>Comedy &amp; Mystery &amp; Soap</td>\n",
       "      <td>370.287000</td>\n",
       "    </tr>\n",
       "    <tr>\n",
       "      <th>1</th>\n",
       "      <td>Mystery &amp; Soap &amp; Drama</td>\n",
       "      <td>370.287000</td>\n",
       "    </tr>\n",
       "    <tr>\n",
       "      <th>2</th>\n",
       "      <td>Drama &amp; Crime &amp; Soap</td>\n",
       "      <td>229.159794</td>\n",
       "    </tr>\n",
       "    <tr>\n",
       "      <th>3</th>\n",
       "      <td>Soap &amp; Family &amp; Action &amp; Adventure</td>\n",
       "      <td>176.851000</td>\n",
       "    </tr>\n",
       "    <tr>\n",
       "      <th>4</th>\n",
       "      <td>Family &amp; Kids &amp; News</td>\n",
       "      <td>176.725000</td>\n",
       "    </tr>\n",
       "    <tr>\n",
       "      <th>5</th>\n",
       "      <td>Talk &amp; Comedy &amp; News</td>\n",
       "      <td>158.096192</td>\n",
       "    </tr>\n",
       "    <tr>\n",
       "      <th>6</th>\n",
       "      <td>Documentary &amp; Family &amp; News</td>\n",
       "      <td>156.780500</td>\n",
       "    </tr>\n",
       "    <tr>\n",
       "      <th>7</th>\n",
       "      <td>Animation &amp; Comedy &amp; Talk</td>\n",
       "      <td>151.098000</td>\n",
       "    </tr>\n",
       "    <tr>\n",
       "      <th>8</th>\n",
       "      <td>Animation &amp; Documentary &amp; Action &amp; Adventure</td>\n",
       "      <td>149.652000</td>\n",
       "    </tr>\n",
       "    <tr>\n",
       "      <th>9</th>\n",
       "      <td>Comedy &amp; Animation &amp; Documentary</td>\n",
       "      <td>149.652000</td>\n",
       "    </tr>\n",
       "  </tbody>\n",
       "</table>\n",
       "</div>"
      ],
      "text/plain": [
       "                             genre_combinations  popularity\n",
       "0                       Comedy & Mystery & Soap  370.287000\n",
       "1                        Mystery & Soap & Drama  370.287000\n",
       "2                          Drama & Crime & Soap  229.159794\n",
       "3            Soap & Family & Action & Adventure  176.851000\n",
       "4                          Family & Kids & News  176.725000\n",
       "5                          Talk & Comedy & News  158.096192\n",
       "6                   Documentary & Family & News  156.780500\n",
       "7                     Animation & Comedy & Talk  151.098000\n",
       "8  Animation & Documentary & Action & Adventure  149.652000\n",
       "9              Comedy & Animation & Documentary  149.652000"
      ]
     },
     "execution_count": 10,
     "metadata": {},
     "output_type": "execute_result"
    }
   ],
   "source": [
    "from itertools import combinations\n",
    "\n",
    "# Creating a DataFrame with each show and its list of genres\n",
    "genre_combinations_df = shows_genres_merged_df.groupby('show_id')['genre_name'].apply(list).reset_index()\n",
    "\n",
    "# Creating all possible genre combinations for each show (up to 3 genres for simplicity)\n",
    "genre_combinations_df['genre_combinations'] = genre_combinations_df['genre_name'].apply(\n",
    "    lambda x: [' & '.join(comb) for i in range(1, 4) for comb in combinations(x, i)]\n",
    ")\n",
    "\n",
    "# Exploding the genre_combinations to have one combination per row\n",
    "exploded_genre_combinations_df = genre_combinations_df.explode('genre_combinations')\n",
    "\n",
    "# Merging with the original dataset to get the popularity of each show\n",
    "merged_genre_combinations_df = pd.merge(\n",
    "    exploded_genre_combinations_df[['show_id', 'genre_combinations']], \n",
    "    shows_genres_merged_df[['show_id', 'popularity']], \n",
    "    on='show_id'\n",
    ")\n",
    "\n",
    "# Aggregating average popularity for each genre combination\n",
    "genre_combination_popularity = merged_genre_combinations_df.groupby('genre_combinations')['popularity'].mean().sort_values(ascending=False)\n",
    "\n",
    "# Converting to a DataFrame for better visualization\n",
    "genre_combination_popularity_df = genre_combination_popularity.reset_index()\n",
    "\n",
    "# Displaying the top genre combinations based on average popularity\n",
    "genre_combination_popularity_df.head(10)"
   ]
  },
  {
   "cell_type": "markdown",
   "metadata": {},
   "source": [
    "These combinations suggest that certain genre mixes, such as those involving Soap, Mystery, Drama, and Comedy, tend to be highly popular among TV audiences."
   ]
  },
  {
   "cell_type": "markdown",
   "metadata": {},
   "source": [
    "# Investigate the Relationship Between TV Show Ratings and the Number of Seasons and Episodes."
   ]
  },
  {
   "cell_type": "markdown",
   "metadata": {},
   "source": [
    "This analysis will involve examining how the ratings of TV shows are influenced by their number of seasons and episodes. We'll need to:\n",
    "\n",
    "Use the merged dataset that includes shows.csv and show_votes.csv data.\n",
    "\n",
    "Analyze the relationship between vote_average (as a proxy for ratings), number_of_seasons, and number_of_episodes."
   ]
  },
  {
   "cell_type": "code",
   "execution_count": 11,
   "metadata": {},
   "outputs": [
    {
     "data": {
      "text/html": [
       "<div>\n",
       "<style scoped>\n",
       "    .dataframe tbody tr th:only-of-type {\n",
       "        vertical-align: middle;\n",
       "    }\n",
       "\n",
       "    .dataframe tbody tr th {\n",
       "        vertical-align: top;\n",
       "    }\n",
       "\n",
       "    .dataframe thead th {\n",
       "        text-align: right;\n",
       "    }\n",
       "</style>\n",
       "<table border=\"1\" class=\"dataframe\">\n",
       "  <thead>\n",
       "    <tr style=\"text-align: right;\">\n",
       "      <th></th>\n",
       "      <th>vote_average</th>\n",
       "      <th>number_of_seasons</th>\n",
       "      <th>number_of_episodes</th>\n",
       "    </tr>\n",
       "  </thead>\n",
       "  <tbody>\n",
       "    <tr>\n",
       "      <th>vote_average</th>\n",
       "      <td>1.000000</td>\n",
       "      <td>0.160455</td>\n",
       "      <td>0.091890</td>\n",
       "    </tr>\n",
       "    <tr>\n",
       "      <th>number_of_seasons</th>\n",
       "      <td>0.160455</td>\n",
       "      <td>1.000000</td>\n",
       "      <td>0.417119</td>\n",
       "    </tr>\n",
       "    <tr>\n",
       "      <th>number_of_episodes</th>\n",
       "      <td>0.091890</td>\n",
       "      <td>0.417119</td>\n",
       "      <td>1.000000</td>\n",
       "    </tr>\n",
       "  </tbody>\n",
       "</table>\n",
       "</div>"
      ],
      "text/plain": [
       "                    vote_average  number_of_seasons  number_of_episodes\n",
       "vote_average            1.000000           0.160455            0.091890\n",
       "number_of_seasons       0.160455           1.000000            0.417119\n",
       "number_of_episodes      0.091890           0.417119            1.000000"
      ]
     },
     "execution_count": 11,
     "metadata": {},
     "output_type": "execute_result"
    }
   ],
   "source": [
    "# Correlation analysis between vote_average, number_of_seasons, and number_of_episodes\n",
    "rating_seasons_episodes_corr = merged_df[['vote_average', 'number_of_seasons', 'number_of_episodes']].corr()\n",
    "\n",
    "rating_seasons_episodes_corr"
   ]
  },
  {
   "cell_type": "markdown",
   "metadata": {},
   "source": [
    "**Vote Average and Number of Seasons:** A correlation coefficient of approximately 0.16. This indicates a weak positive relationship, suggesting that shows with more seasons tend to have slightly higher ratings, but the correlation is not strong.\n",
    "\n",
    "**Vote Average and Number of Episodes:** A correlation coefficient of approximately 0.09. This suggests an even weaker positive relationship between the number of episodes and the ratings.\n",
    "\n",
    "**Number of Seasons and Number of Episodes:** A correlation coefficient of approximately 0.42. This stronger positive correlation is expected, as shows with more seasons typically have more episodes.\n",
    "\n",
    "These results indicate that while there is some relationship between the longevity of a show (in terms of seasons and episodes) and its ratings, the relationship is not particularly strong. This suggests that factors other than just the number of seasons or episodes influence a show's ratings."
   ]
  },
  {
   "cell_type": "code",
   "execution_count": 12,
   "metadata": {},
   "outputs": [
    {
     "data": {
      "image/png": "[encoded data removed]",
      "text/plain": [
       "<Figure size 1800x600 with 2 Axes>"
      ]
     },
     "metadata": {},
     "output_type": "display_data"
    }
   ],
   "source": [
    "# Creating a figure with 2 subplots for visualizations\n",
    "fig, axes = plt.subplots(1, 2, figsize=(18, 6))\n",
    "\n",
    "# Scatter plot for Vote Average vs Number of Seasons\n",
    "sns.scatterplot(ax=axes[0], data=merged_df, x='number_of_seasons', y='vote_average')\n",
    "axes[0].set_title('Vote Average vs Number of Seasons')\n",
    "axes[0].set_xlabel('Number of Seasons')\n",
    "axes[0].set_ylabel('Vote Average')\n",
    "\n",
    "# Scatter plot for Vote Average vs Number of Episodes\n",
    "sns.scatterplot(ax=axes[1], data=merged_df, x='number_of_episodes', y='vote_average')\n",
    "axes[1].set_title('Vote Average vs Number of Episodes')\n",
    "axes[1].set_xlabel('Number of Episodes')\n",
    "axes[1].set_ylabel('Vote Average')\n",
    "\n",
    "# Adjusting layout\n",
    "plt.tight_layout()\n",
    "\n",
    "# Displaying the plots\n",
    "plt.show()"
   ]
  },
  {
   "cell_type": "markdown",
   "metadata": {},
   "source": [
    "These visualizations corroborate the correlation analysis, indicating that while there might be a slight tendency for shows with more seasons or episodes to have higher ratings, these factors alone are not strong predictors of a show's rating. Other elements, such as genre, content quality, and audience preferences, likely play more significant roles in determining ratings."
   ]
  },
  {
   "cell_type": "markdown",
   "metadata": {},
   "source": [
    "# Build a Recommendation System that Suggests TV Shows Based on a User's Favorite Genres or Languages."
   ]
  },
  {
   "cell_type": "markdown",
   "metadata": {},
   "source": [
    "**Selecting the relevant data:** For genre-based recommendations, we'll use genres.csv and shows.csv. For language-based recommendations, we'll need languages.csv and shows.csv.\n",
    "\n",
    "Developing a simple algorithm to suggest shows based on the user's preferred genres or languages. "
   ]
  },
  {
   "cell_type": "code",
   "execution_count": 13,
   "metadata": {},
   "outputs": [
    {
     "data": {
      "text/html": [
       "<div>\n",
       "<style scoped>\n",
       "    .dataframe tbody tr th:only-of-type {\n",
       "        vertical-align: middle;\n",
       "    }\n",
       "\n",
       "    .dataframe tbody tr th {\n",
       "        vertical-align: top;\n",
       "    }\n",
       "\n",
       "    .dataframe thead th {\n",
       "        text-align: right;\n",
       "    }\n",
       "</style>\n",
       "<table border=\"1\" class=\"dataframe\">\n",
       "  <thead>\n",
       "    <tr style=\"text-align: right;\">\n",
       "      <th></th>\n",
       "      <th>show_id</th>\n",
       "      <th>name</th>\n",
       "      <th>popularity</th>\n",
       "      <th>matching_genres</th>\n",
       "    </tr>\n",
       "  </thead>\n",
       "  <tbody>\n",
       "    <tr>\n",
       "      <th>399</th>\n",
       "      <td>1399</td>\n",
       "      <td>Game of Thrones</td>\n",
       "      <td>1083.917</td>\n",
       "      <td>2</td>\n",
       "    </tr>\n",
       "    <tr>\n",
       "      <th>198</th>\n",
       "      <td>655</td>\n",
       "      <td>Star Trek: The Next Generation</td>\n",
       "      <td>803.474</td>\n",
       "      <td>2</td>\n",
       "    </tr>\n",
       "    <tr>\n",
       "      <th>570</th>\n",
       "      <td>1855</td>\n",
       "      <td>Star Trek: Voyager</td>\n",
       "      <td>801.532</td>\n",
       "      <td>2</td>\n",
       "    </tr>\n",
       "    <tr>\n",
       "      <th>31196</th>\n",
       "      <td>205715</td>\n",
       "      <td>Gen V</td>\n",
       "      <td>800.684</td>\n",
       "      <td>2</td>\n",
       "    </tr>\n",
       "    <tr>\n",
       "      <th>13260</th>\n",
       "      <td>69478</td>\n",
       "      <td>The Handmaid's Tale</td>\n",
       "      <td>684.333</td>\n",
       "      <td>2</td>\n",
       "    </tr>\n",
       "  </tbody>\n",
       "</table>\n",
       "</div>"
      ],
      "text/plain": [
       "       show_id                            name  popularity  matching_genres\n",
       "399       1399                 Game of Thrones    1083.917                2\n",
       "198        655  Star Trek: The Next Generation     803.474                2\n",
       "570       1855              Star Trek: Voyager     801.532                2\n",
       "31196   205715                           Gen V     800.684                2\n",
       "13260    69478             The Handmaid's Tale     684.333                2"
      ]
     },
     "execution_count": 13,
     "metadata": {},
     "output_type": "execute_result"
    }
   ],
   "source": [
    "def recommend_shows_by_genre(user_genres, dataset, num_recommendations=5):\n",
    "    \"\"\"\n",
    "    Recommend TV shows based on the user's favorite genres.\n",
    "\n",
    "    :param user_genres: List of user's favorite genres.\n",
    "    :param dataset: DataFrame containing TV show and genre information.\n",
    "    :param num_recommendations: Number of recommendations to return.\n",
    "    :return: DataFrame containing recommended TV shows.\n",
    "    \"\"\"\n",
    "    # Filtering the dataset for shows that match the user's genres\n",
    "    recommended_shows = dataset[dataset['genre_name'].isin(user_genres)]\n",
    "\n",
    "    # Grouping by show and counting the number of matching genres\n",
    "    recommended_shows = recommended_shows.groupby(['show_id', 'name', 'popularity']).size().reset_index(name='matching_genres')\n",
    "\n",
    "    # Sorting the shows by the number of matching genres and then by popularity\n",
    "    recommended_shows = recommended_shows.sort_values(by=['matching_genres', 'popularity'], ascending=[False, False])\n",
    "\n",
    "    # Returning the top shows as recommendations\n",
    "    return recommended_shows.head(num_recommendations)\n",
    "\n",
    "# Example: Let's assume a user likes 'Drama' and 'Sci-Fi & Fantasy'\n",
    "user_favorite_genres = ['Drama', 'Sci-Fi & Fantasy']\n",
    "\n",
    "# Getting recommendations\n",
    "recommended_shows_example = recommend_shows_by_genre(user_favorite_genres, shows_genres_merged_df)\n",
    "recommended_shows_example\n"
   ]
  },
  {
   "cell_type": "markdown",
   "metadata": {},
   "source": [
    "# Predict the Success of a TV Show Based on Features like Vote Count, Average, and Popularity."
   ]
  },
  {
   "cell_type": "markdown",
   "metadata": {},
   "source": [
    "Data Preparation: Selecting and preparing the relevant features (vote_count, vote_average, and popularity) from the dataset.\n",
    "\n",
    "Defining Success: We need a definition of what constitutes a \"successful\" TV show. This could be based on a threshold for popularity, vote average, or a combination of factors.\n",
    "\n",
    "Model Building: Choosing a suitable machine learning model to predict success.\n",
    "\n",
    "Training and Testing: Splitting the data into training and testing sets to train and evaluate the model.\n",
    "\n",
    "Model Evaluation: Assessing the model's performance."
   ]
  },
  {
   "cell_type": "code",
   "execution_count": 15,
   "metadata": {},
   "outputs": [
    {
     "data": {
      "text/plain": [
       "count    162143.000000\n",
       "mean          5.854827\n",
       "std          40.295552\n",
       "min           0.000000\n",
       "25%           0.600000\n",
       "50%           0.859000\n",
       "75%           2.430000\n",
       "max        3707.008000\n",
       "Name: popularity, dtype: float64"
      ]
     },
     "execution_count": 15,
     "metadata": {},
     "output_type": "execute_result"
    }
   ],
   "source": [
    "# Merging the datasets on 'show_id'\n",
    "merged_df = pd.merge(shows_df, show_votes_df, on='show_id')\n",
    "\n",
    "# Selecting relevant features for the predictive model\n",
    "features_df = merged_df[['vote_count', 'vote_average', 'popularity']]\n",
    "\n",
    "# Checking the distribution of popularity and vote_average to define success\n",
    "popularity_distribution = features_df['popularity'].describe()\n",
    "vote_average_distribution = features_df['vote_average'].describe()\n",
    "\n",
    "popularity_distribution"
   ]
  },
  {
   "cell_type": "code",
   "execution_count": 16,
   "metadata": {},
   "outputs": [
    {
     "data": {
      "text/plain": [
       "count    162143.000000\n",
       "mean          2.407624\n",
       "std           3.479961\n",
       "min           0.000000\n",
       "25%           0.000000\n",
       "50%           0.000000\n",
       "75%           6.000000\n",
       "max          10.000000\n",
       "Name: vote_average, dtype: float64"
      ]
     },
     "execution_count": 16,
     "metadata": {},
     "output_type": "execute_result"
    }
   ],
   "source": [
    "vote_average_distribution"
   ]
  },
  {
   "cell_type": "markdown",
   "metadata": {},
   "source": [
    "Based on these distributions, we need to define what constitutes a \"successful\" TV show for our predictive model. One approach could be to use the 75th percentile as a threshold. For instance, shows with a popularity score above 2.43 and/or a vote average above 6.00 could be labeled as successful."
   ]
  },
  {
   "cell_type": "code",
   "execution_count": 18,
   "metadata": {},
   "outputs": [
    {
     "data": {
      "text/html": [
       "<div>\n",
       "<style scoped>\n",
       "    .dataframe tbody tr th:only-of-type {\n",
       "        vertical-align: middle;\n",
       "    }\n",
       "\n",
       "    .dataframe tbody tr th {\n",
       "        vertical-align: top;\n",
       "    }\n",
       "\n",
       "    .dataframe thead th {\n",
       "        text-align: right;\n",
       "    }\n",
       "</style>\n",
       "<table border=\"1\" class=\"dataframe\">\n",
       "  <thead>\n",
       "    <tr style=\"text-align: right;\">\n",
       "      <th></th>\n",
       "      <th>vote_count</th>\n",
       "      <th>vote_average</th>\n",
       "      <th>popularity</th>\n",
       "      <th>is_successful</th>\n",
       "    </tr>\n",
       "  </thead>\n",
       "  <tbody>\n",
       "    <tr>\n",
       "      <th>0</th>\n",
       "      <td>21857</td>\n",
       "      <td>8.442</td>\n",
       "      <td>1083.917</td>\n",
       "      <td>True</td>\n",
       "    </tr>\n",
       "    <tr>\n",
       "      <th>1</th>\n",
       "      <td>17836</td>\n",
       "      <td>8.257</td>\n",
       "      <td>96.354</td>\n",
       "      <td>True</td>\n",
       "    </tr>\n",
       "    <tr>\n",
       "      <th>2</th>\n",
       "      <td>16161</td>\n",
       "      <td>8.624</td>\n",
       "      <td>185.711</td>\n",
       "      <td>True</td>\n",
       "    </tr>\n",
       "    <tr>\n",
       "      <th>3</th>\n",
       "      <td>15432</td>\n",
       "      <td>8.121</td>\n",
       "      <td>489.746</td>\n",
       "      <td>True</td>\n",
       "    </tr>\n",
       "    <tr>\n",
       "      <th>4</th>\n",
       "      <td>13870</td>\n",
       "      <td>8.486</td>\n",
       "      <td>416.668</td>\n",
       "      <td>True</td>\n",
       "    </tr>\n",
       "  </tbody>\n",
       "</table>\n",
       "</div>"
      ],
      "text/plain": [
       "   vote_count  vote_average  popularity  is_successful\n",
       "0       21857         8.442    1083.917           True\n",
       "1       17836         8.257      96.354           True\n",
       "2       16161         8.624     185.711           True\n",
       "3       15432         8.121     489.746           True\n",
       "4       13870         8.486     416.668           True"
      ]
     },
     "execution_count": 18,
     "metadata": {},
     "output_type": "execute_result"
    }
   ],
   "source": [
    "success_threshold = popularity_distribution['75%']\n",
    "merged_df['is_successful'] = merged_df['popularity'] > success_threshold\n",
    "\n",
    "# Preparing the features and target variable for the model\n",
    "features = merged_df[['vote_count', 'vote_average', 'popularity']]\n",
    "target = merged_df['is_successful']\n",
    "\n",
    "# Checking the first few rows of the prepared dataset\n",
    "prepared_dataset_head = merged_df[['vote_count', 'vote_average', 'popularity', 'is_successful']].head()\n",
    "prepared_dataset_head\n"
   ]
  },
  {
   "cell_type": "code",
   "execution_count": 19,
   "metadata": {},
   "outputs": [
    {
     "data": {
      "text/plain": [
       "2.43"
      ]
     },
     "execution_count": 19,
     "metadata": {},
     "output_type": "execute_result"
    }
   ],
   "source": [
    "success_threshold"
   ]
  },
  {
   "cell_type": "markdown",
   "metadata": {},
   "source": [
    "The next steps in building the predictive model include:\n",
    "\n",
    "Splitting the Data: Divide the data into training and testing sets.\n",
    "\n",
    "Model Selection: Choose an appropriate machine learning model.\n",
    "\n",
    "Model Training: Train the model on the training set.\n",
    "\n",
    "Model Evaluation: Test the model on the testing set and evaluate its performance.\n"
   ]
  },
  {
   "cell_type": "code",
   "execution_count": 20,
   "metadata": {},
   "outputs": [
    {
     "data": {
      "text/plain": [
       "'              precision    recall  f1-score   support\\n\\n       False       1.00      1.00      1.00     24391\\n        True       1.00      1.00      1.00      8038\\n\\n    accuracy                           1.00     32429\\n   macro avg       1.00      1.00      1.00     32429\\nweighted avg       1.00      1.00      1.00     32429\\n'"
      ]
     },
     "execution_count": 20,
     "metadata": {},
     "output_type": "execute_result"
    }
   ],
   "source": [
    "from sklearn.model_selection import train_test_split\n",
    "from sklearn.linear_model import LogisticRegression\n",
    "from sklearn.metrics import classification_report, confusion_matrix\n",
    "\n",
    "# Splitting the data into training and testing sets\n",
    "X_train, X_test, y_train, y_test = train_test_split(features, target, test_size=0.2, random_state=42)\n",
    "\n",
    "# Initializing and training the logistic regression model\n",
    "model = LogisticRegression()\n",
    "model.fit(X_train, y_train)\n",
    "\n",
    "# Predicting on the test set\n",
    "y_pred = model.predict(X_test)\n",
    "\n",
    "# Evaluating the model\n",
    "classification_report_output = classification_report(y_test, y_pred)\n",
    "confusion_matrix_output = confusion_matrix(y_test, y_pred)\n",
    "\n",
    "classification_report_output"
   ]
  },
  {
   "cell_type": "code",
   "execution_count": 21,
   "metadata": {},
   "outputs": [
    {
     "data": {
      "text/plain": [
       "array([[24391,     0],\n",
       "       [   10,  8028]])"
      ]
     },
     "execution_count": 21,
     "metadata": {},
     "output_type": "execute_result"
    }
   ],
   "source": [
    "confusion_matrix_output"
   ]
  },
  {
   "cell_type": "markdown",
   "metadata": {},
   "source": [
    "# Identify the Most Prolific TV Show Creators or Production Companies Based on the Number of Shows They Have Created."
   ]
  },
  {
   "cell_type": "markdown",
   "metadata": {},
   "source": [
    "Loading and examining the relevant CSV files, likely created_by.csv for show creators and production_companies.csv for production companies.\n",
    "\n",
    "Aggregating the data to count the number of shows associated with each creator or company.\n",
    "\n",
    "Identifying the top creators and companies based on these counts.\n"
   ]
  },
  {
   "cell_type": "code",
   "execution_count": 23,
   "metadata": {},
   "outputs": [
    {
     "data": {
      "text/plain": [
       "232954    21\n",
       "93784     18\n",
       "115185    16\n",
       "64979     16\n",
       "158221    16\n",
       "116865    14\n",
       "201722    14\n",
       "50968     14\n",
       "41639     12\n",
       "121979    12\n",
       "Name: show_id, dtype: int64"
      ]
     },
     "execution_count": 23,
     "metadata": {},
     "output_type": "execute_result"
    }
   ],
   "source": [
    "# Loading the data from CSV files\n",
    "created_by_df = pd.read_csv('/Users/ymadigital/Downloads/TV Shows/TV Shows/created_by.csv')\n",
    "production_companies_df = pd.read_csv('/Users/ymadigital/Downloads/TV Shows/TV Shows/production_companies.csv')\n",
    "\n",
    "# Aggregating the data to count the number of shows for each creator\n",
    "top_creators = created_by_df['show_id'].value_counts().head(10)\n",
    "\n",
    "# Aggregating the data to count the number of shows for each production company\n",
    "top_production_companies = production_companies_df['show_id'].value_counts().head(10)\n",
    "\n",
    "top_creators"
   ]
  },
  {
   "cell_type": "code",
   "execution_count": 24,
   "metadata": {},
   "outputs": [
    {
     "data": {
      "text/plain": [
       "88243     36\n",
       "1232      17\n",
       "60723     17\n",
       "114478    17\n",
       "71488     15\n",
       "98281     14\n",
       "107003    14\n",
       "201084    14\n",
       "97617     13\n",
       "94486     13\n",
       "Name: show_id, dtype: int64"
      ]
     },
     "execution_count": 24,
     "metadata": {},
     "output_type": "execute_result"
    }
   ],
   "source": [
    "top_production_companies"
   ]
  },
  {
   "cell_type": "markdown",
   "metadata": {},
   "source": [
    "# Explore the Distribution of TV Show Run Times and Investigate Whether Episode Duration Affects the Overall Ratings."
   ]
  },
  {
   "cell_type": "markdown",
   "metadata": {},
   "source": [
    "Analyzing the shows.csv dataset to examine the distribution of run times of TV shows.\n",
    "\n",
    "Investigating if there's a correlation between the run time of episodes and their ratings (vote_average)."
   ]
  },
  {
   "cell_type": "code",
   "execution_count": 26,
   "metadata": {},
   "outputs": [
    {
     "data": {
      "text/plain": [
       "count    162143.000000\n",
       "mean         23.252493\n",
       "std          47.968789\n",
       "min           0.000000\n",
       "25%           0.000000\n",
       "50%           5.000000\n",
       "75%          43.000000\n",
       "max        6032.000000\n",
       "Name: eposide_run_time, dtype: float64"
      ]
     },
     "execution_count": 26,
     "metadata": {},
     "output_type": "execute_result"
    }
   ],
   "source": [
    "# Merging shows data with voting data\n",
    "shows_with_votes_df = pd.merge(shows_df, show_votes_df, on='show_id')\n",
    "\n",
    "# Reanalyzing the distribution of TV show run times\n",
    "run_time_distribution = shows_with_votes_df['eposide_run_time'].describe()\n",
    "\n",
    "# Rechecking the correlation between episode run time and ratings (vote_average)\n",
    "correlation_runtime_ratings = shows_with_votes_df[['eposide_run_time', 'vote_average']].corr()\n",
    "\n",
    "run_time_distribution"
   ]
  },
  {
   "cell_type": "code",
   "execution_count": 27,
   "metadata": {},
   "outputs": [
    {
     "data": {
      "text/html": [
       "<div>\n",
       "<style scoped>\n",
       "    .dataframe tbody tr th:only-of-type {\n",
       "        vertical-align: middle;\n",
       "    }\n",
       "\n",
       "    .dataframe tbody tr th {\n",
       "        vertical-align: top;\n",
       "    }\n",
       "\n",
       "    .dataframe thead th {\n",
       "        text-align: right;\n",
       "    }\n",
       "</style>\n",
       "<table border=\"1\" class=\"dataframe\">\n",
       "  <thead>\n",
       "    <tr style=\"text-align: right;\">\n",
       "      <th></th>\n",
       "      <th>eposide_run_time</th>\n",
       "      <th>vote_average</th>\n",
       "    </tr>\n",
       "  </thead>\n",
       "  <tbody>\n",
       "    <tr>\n",
       "      <th>eposide_run_time</th>\n",
       "      <td>1.000000</td>\n",
       "      <td>0.153654</td>\n",
       "    </tr>\n",
       "    <tr>\n",
       "      <th>vote_average</th>\n",
       "      <td>0.153654</td>\n",
       "      <td>1.000000</td>\n",
       "    </tr>\n",
       "  </tbody>\n",
       "</table>\n",
       "</div>"
      ],
      "text/plain": [
       "                  eposide_run_time  vote_average\n",
       "eposide_run_time          1.000000      0.153654\n",
       "vote_average              0.153654      1.000000"
      ]
     },
     "execution_count": 27,
     "metadata": {},
     "output_type": "execute_result"
    }
   ],
   "source": [
    "correlation_runtime_ratings"
   ]
  },
  {
   "cell_type": "markdown",
   "metadata": {},
   "source": [
    "This indicates a weak positive relationship between the length of episodes and their average ratings.\n",
    "\n",
    "The distribution of run times suggests a wide variety of show types, including many short-form episodes or cases where run time might not be applicable. The correlation coefficient, while positive, is relatively weak, suggesting that while there may be a slight tendency for longer episodes to have higher ratings, this relationship is not strongly pronounced.\n"
   ]
  },
  {
   "cell_type": "markdown",
   "metadata": {},
   "source": [
    "# Investigate TV Show Production Trends Across Different Countries and Networks."
   ]
  },
  {
   "cell_type": "markdown",
   "metadata": {},
   "source": [
    "Examining the data related to TV show productions, particularly focusing on the countries and networks involved.\n",
    "\n",
    "Analyzing trends, such as which countries are leading in TV show production or how different networks compare in terms of the number of shows produced."
   ]
  },
  {
   "cell_type": "code",
   "execution_count": 30,
   "metadata": {},
   "outputs": [
    {
     "data": {
      "text/html": [
       "<div>\n",
       "<style scoped>\n",
       "    .dataframe tbody tr th:only-of-type {\n",
       "        vertical-align: middle;\n",
       "    }\n",
       "\n",
       "    .dataframe tbody tr th {\n",
       "        vertical-align: top;\n",
       "    }\n",
       "\n",
       "    .dataframe thead th {\n",
       "        text-align: right;\n",
       "    }\n",
       "</style>\n",
       "<table border=\"1\" class=\"dataframe\">\n",
       "  <thead>\n",
       "    <tr style=\"text-align: right;\">\n",
       "      <th></th>\n",
       "      <th>show_id</th>\n",
       "      <th>production_country_type_id</th>\n",
       "      <th>origin_country_type_id</th>\n",
       "    </tr>\n",
       "  </thead>\n",
       "  <tbody>\n",
       "    <tr>\n",
       "      <th>0</th>\n",
       "      <td>1399</td>\n",
       "      <td>165</td>\n",
       "      <td>16</td>\n",
       "    </tr>\n",
       "    <tr>\n",
       "      <th>1</th>\n",
       "      <td>1399</td>\n",
       "      <td>30</td>\n",
       "      <td>16</td>\n",
       "    </tr>\n",
       "    <tr>\n",
       "      <th>2</th>\n",
       "      <td>71446</td>\n",
       "      <td>10</td>\n",
       "      <td>150</td>\n",
       "    </tr>\n",
       "    <tr>\n",
       "      <th>3</th>\n",
       "      <td>66732</td>\n",
       "      <td>30</td>\n",
       "      <td>16</td>\n",
       "    </tr>\n",
       "    <tr>\n",
       "      <th>4</th>\n",
       "      <td>1402</td>\n",
       "      <td>30</td>\n",
       "      <td>16</td>\n",
       "    </tr>\n",
       "  </tbody>\n",
       "</table>\n",
       "</div>"
      ],
      "text/plain": [
       "   show_id  production_country_type_id  origin_country_type_id\n",
       "0     1399                         165                      16\n",
       "1     1399                          30                      16\n",
       "2    71446                          10                     150\n",
       "3    66732                          30                      16\n",
       "4     1402                          30                      16"
      ]
     },
     "execution_count": 30,
     "metadata": {},
     "output_type": "execute_result"
    }
   ],
   "source": [
    "# Loading the data from CSV files\n",
    "production_countries_df = pd.read_csv('/Users/ymadigital/Downloads/TV Shows/TV Shows/production_countries.csv')\n",
    "networks_df = pd.read_csv('/Users/ymadigital/Downloads/TV Shows/TV Shows/networks.csv')\n",
    "network_types_df = pd.read_csv('/Users/ymadigital/Downloads/TV Shows/TV Shows/network_types.csv')\n",
    "origin_country_types_df = pd.read_csv('/Users/ymadigital/Downloads/TV Shows/TV Shows/origin_country_types.csv')\n",
    "production_country_types_df = pd.read_csv('/Users/ymadigital/Downloads/TV Shows/TV Shows/production_country_types.csv')\n",
    "production_countries_df.head()"
   ]
  },
  {
   "cell_type": "code",
   "execution_count": 32,
   "metadata": {},
   "outputs": [
    {
     "data": {
      "text/html": [
       "<div>\n",
       "<style scoped>\n",
       "    .dataframe tbody tr th:only-of-type {\n",
       "        vertical-align: middle;\n",
       "    }\n",
       "\n",
       "    .dataframe tbody tr th {\n",
       "        vertical-align: top;\n",
       "    }\n",
       "\n",
       "    .dataframe thead th {\n",
       "        text-align: right;\n",
       "    }\n",
       "</style>\n",
       "<table border=\"1\" class=\"dataframe\">\n",
       "  <thead>\n",
       "    <tr style=\"text-align: right;\">\n",
       "      <th></th>\n",
       "      <th>show_id</th>\n",
       "      <th>network_type_id</th>\n",
       "      <th>network_name</th>\n",
       "    </tr>\n",
       "  </thead>\n",
       "  <tbody>\n",
       "    <tr>\n",
       "      <th>0</th>\n",
       "      <td>1399</td>\n",
       "      <td>2321</td>\n",
       "      <td>HBO</td>\n",
       "    </tr>\n",
       "    <tr>\n",
       "      <th>1</th>\n",
       "      <td>85552</td>\n",
       "      <td>2321</td>\n",
       "      <td>HBO</td>\n",
       "    </tr>\n",
       "    <tr>\n",
       "      <th>2</th>\n",
       "      <td>87108</td>\n",
       "      <td>2321</td>\n",
       "      <td>HBO</td>\n",
       "    </tr>\n",
       "    <tr>\n",
       "      <th>3</th>\n",
       "      <td>63247</td>\n",
       "      <td>2321</td>\n",
       "      <td>HBO</td>\n",
       "    </tr>\n",
       "    <tr>\n",
       "      <th>4</th>\n",
       "      <td>100088</td>\n",
       "      <td>2321</td>\n",
       "      <td>HBO</td>\n",
       "    </tr>\n",
       "  </tbody>\n",
       "</table>\n",
       "</div>"
      ],
      "text/plain": [
       "   show_id  network_type_id network_name\n",
       "0     1399             2321          HBO\n",
       "1    85552             2321          HBO\n",
       "2    87108             2321          HBO\n",
       "3    63247             2321          HBO\n",
       "4   100088             2321          HBO"
      ]
     },
     "execution_count": 32,
     "metadata": {},
     "output_type": "execute_result"
    }
   ],
   "source": [
    "# Merging the network data\n",
    "networks_merged_df = pd.merge(networks_df, network_types_df, left_on='network_type_id', right_on='network_type_id')\n",
    "\n",
    "# Merging the production country data\n",
    "# Using 'production_country_type_id' for production country mapping\n",
    "production_countries_merged_df = pd.merge(\n",
    "    production_countries_df, \n",
    "    production_country_types_df, \n",
    "    left_on='production_country_type_id', \n",
    "    right_on='production_country_type_id'\n",
    ")\n",
    "\n",
    "# Previewing the merged data\n",
    "networks_merged_head = networks_merged_df.head()\n",
    "production_countries_merged_head = production_countries_merged_df.head()\n",
    "\n",
    "networks_merged_head"
   ]
  },
  {
   "cell_type": "code",
   "execution_count": 33,
   "metadata": {},
   "outputs": [
    {
     "data": {
      "text/html": [
       "<div>\n",
       "<style scoped>\n",
       "    .dataframe tbody tr th:only-of-type {\n",
       "        vertical-align: middle;\n",
       "    }\n",
       "\n",
       "    .dataframe tbody tr th {\n",
       "        vertical-align: top;\n",
       "    }\n",
       "\n",
       "    .dataframe thead th {\n",
       "        text-align: right;\n",
       "    }\n",
       "</style>\n",
       "<table border=\"1\" class=\"dataframe\">\n",
       "  <thead>\n",
       "    <tr style=\"text-align: right;\">\n",
       "      <th></th>\n",
       "      <th>show_id</th>\n",
       "      <th>production_country_type_id</th>\n",
       "      <th>origin_country_type_id</th>\n",
       "      <th>production_country_name</th>\n",
       "    </tr>\n",
       "  </thead>\n",
       "  <tbody>\n",
       "    <tr>\n",
       "      <th>0</th>\n",
       "      <td>1399</td>\n",
       "      <td>165</td>\n",
       "      <td>16</td>\n",
       "      <td>United Kingdom</td>\n",
       "    </tr>\n",
       "    <tr>\n",
       "      <th>1</th>\n",
       "      <td>60574</td>\n",
       "      <td>165</td>\n",
       "      <td>26</td>\n",
       "      <td>United Kingdom</td>\n",
       "    </tr>\n",
       "    <tr>\n",
       "      <th>2</th>\n",
       "      <td>81356</td>\n",
       "      <td>165</td>\n",
       "      <td>26</td>\n",
       "      <td>United Kingdom</td>\n",
       "    </tr>\n",
       "    <tr>\n",
       "      <th>3</th>\n",
       "      <td>87108</td>\n",
       "      <td>165</td>\n",
       "      <td>16</td>\n",
       "      <td>United Kingdom</td>\n",
       "    </tr>\n",
       "    <tr>\n",
       "      <th>4</th>\n",
       "      <td>19885</td>\n",
       "      <td>165</td>\n",
       "      <td>26</td>\n",
       "      <td>United Kingdom</td>\n",
       "    </tr>\n",
       "  </tbody>\n",
       "</table>\n",
       "</div>"
      ],
      "text/plain": [
       "   show_id  production_country_type_id  origin_country_type_id  \\\n",
       "0     1399                         165                      16   \n",
       "1    60574                         165                      26   \n",
       "2    81356                         165                      26   \n",
       "3    87108                         165                      16   \n",
       "4    19885                         165                      26   \n",
       "\n",
       "  production_country_name  \n",
       "0          United Kingdom  \n",
       "1          United Kingdom  \n",
       "2          United Kingdom  \n",
       "3          United Kingdom  \n",
       "4          United Kingdom  "
      ]
     },
     "execution_count": 33,
     "metadata": {},
     "output_type": "execute_result"
    }
   ],
   "source": [
    "production_countries_merged_head"
   ]
  },
  {
   "cell_type": "code",
   "execution_count": 34,
   "metadata": {},
   "outputs": [
    {
     "data": {
      "text/plain": [
       "United States of America    10540\n",
       "Japan                        9715\n",
       "China                        6218\n",
       "United Kingdom               5936\n",
       "Germany                      5856\n",
       "South Korea                  3708\n",
       "France                       3627\n",
       "Canada                       3476\n",
       "Hong Kong                    1967\n",
       "Brazil                       1924\n",
       "Name: production_country_name, dtype: int64"
      ]
     },
     "execution_count": 34,
     "metadata": {},
     "output_type": "execute_result"
    }
   ],
   "source": [
    "# Aggregating the data to analyze TV show production trends by country\n",
    "production_country_trends = production_countries_merged_df['production_country_name'].value_counts()\n",
    "\n",
    "# Aggregating the data to analyze TV show production trends by network\n",
    "network_trends = networks_merged_df['network_name'].value_counts()\n",
    "\n",
    "production_country_trends.head(10)\n"
   ]
  },
  {
   "cell_type": "code",
   "execution_count": 35,
   "metadata": {},
   "outputs": [
    {
     "data": {
      "text/plain": [
       "YouTube      2403\n",
       "BBC One      2255\n",
       "Netflix      1899\n",
       "ITV1         1840\n",
       "BBC Two      1752\n",
       "ABC          1592\n",
       "NBC          1544\n",
       "CBS          1413\n",
       "TVB Jade     1407\n",
       "Channel 4    1300\n",
       "Name: network_name, dtype: int64"
      ]
     },
     "execution_count": 35,
     "metadata": {},
     "output_type": "execute_result"
    }
   ],
   "source": [
    "network_trends.head(10)"
   ]
  },
  {
   "cell_type": "markdown",
   "metadata": {},
   "source": [
    "These results highlight the leading countries in TV show production and the networks with the highest number of shows. The United States, Japan, and China are the top countries in terms of production volume. YouTube, BBC One, and Netflix are among the networks broadcasting the highest number of shows."
   ]
  },
  {
   "cell_type": "markdown",
   "metadata": {},
   "source": [
    "# Analyze the Relationship Between TV Show Language and Popularity, and Investigate the Popularity of Non-English Shows."
   ]
  },
  {
   "cell_type": "markdown",
   "metadata": {},
   "source": [
    "Examine data related to TV show languages and their popularity.\n",
    "\n",
    "Analyze how the language of a TV show correlates with its popularity.\n",
    "\n",
    "Investigate specifically the popularity of non-English shows."
   ]
  },
  {
   "cell_type": "code",
   "execution_count": 38,
   "metadata": {},
   "outputs": [],
   "source": [
    "# Loading the data from the languages CSV file\n",
    "languages_df = pd.read_csv('/Users/ymadigital/Downloads/TV Shows/TV Shows/languages.csv')\n",
    "language_types_df = pd.read_csv('/Users/ymadigital/Downloads/TV Shows/TV Shows/language_types.csv')"
   ]
  },
  {
   "cell_type": "code",
   "execution_count": 43,
   "metadata": {},
   "outputs": [
    {
     "data": {
      "text/plain": [
       "en    41752\n",
       "ja    11249\n",
       "zh     7839\n",
       "fr     6642\n",
       "de     6456\n",
       "ko     4654\n",
       "es     4545\n",
       "pt     2964\n",
       "nl     2488\n",
       "ru     2031\n",
       "Name: language_name, dtype: int64"
      ]
     },
     "execution_count": 43,
     "metadata": {},
     "output_type": "execute_result"
    }
   ],
   "source": [
    "# Merging the languages data with the shows data (which includes popularity)\n",
    "shows_languages_df = pd.merge(shows_df, languages_df, on='show_id')\n",
    "\n",
    "# Merging the above with show_votes to include vote data\n",
    "shows_languages_votes_df = pd.merge(shows_languages_df, show_votes_df, on='show_id')\n",
    "\n",
    "# Merging the language data with the language types to get the language names\n",
    "shows_languages_full_df = pd.merge(shows_languages_votes_df, language_types_df, on='language_type_id')\n",
    "\n",
    "# Analyzing the relationship between show language and popularity\n",
    "# Getting the top languages in the dataset\n",
    "top_languages = shows_languages_full_df['language_name'].value_counts().head(10)\n",
    "\n",
    "# Calculating the average popularity for each language\n",
    "language_popularity = shows_languages_full_df.groupby('language_name')['popularity'].mean().sort_values(ascending=False)\n",
    "\n",
    "top_languages"
   ]
  },
  {
   "cell_type": "code",
   "execution_count": 44,
   "metadata": {},
   "outputs": [
    {
     "data": {
      "text/plain": [
       "language_name\n",
       "ki    38.601000\n",
       "af    32.692955\n",
       "cr    29.004000\n",
       "tl    25.344455\n",
       "nv    24.273000\n",
       "lt    20.214235\n",
       "nn    19.985917\n",
       "os    18.539000\n",
       "dz    18.520333\n",
       "iu    17.693000\n",
       "Name: popularity, dtype: float64"
      ]
     },
     "execution_count": 44,
     "metadata": {},
     "output_type": "execute_result"
    }
   ],
   "source": [
    "language_popularity.head(10)"
   ]
  },
  {
   "cell_type": "markdown",
   "metadata": {},
   "source": [
    "English is the most common language for TV shows in the dataset. However, when looking at average popularity, less common languages like Kikuyu, Afrikaans, and Cree top the list. This could indicate that shows in these languages, while fewer in number, tend to be quite popular."
   ]
  },
  {
   "cell_type": "markdown",
   "metadata": {},
   "source": [
    "# Track the Status of TV Shows (In Production or Not) and Analyze Their Popularity Over Time."
   ]
  },
  {
   "cell_type": "markdown",
   "metadata": {},
   "source": [
    "Examine data related to the status of TV shows (whether they are still in production or not).\n",
    "\n",
    "Analyze how the popularity of TV shows varies over time, particularly considering their production status."
   ]
  },
  {
   "cell_type": "code",
   "execution_count": 46,
   "metadata": {},
   "outputs": [
    {
     "data": {
      "text/plain": [
       "status_name\n",
       "Canceled            11.407966\n",
       "Ended                5.793997\n",
       "Returning Series     5.728172\n",
       "In Production        2.253633\n",
       "Pilot                1.526724\n",
       "Planned              1.216835\n",
       "Name: popularity, dtype: float64"
      ]
     },
     "execution_count": 46,
     "metadata": {},
     "output_type": "execute_result"
    }
   ],
   "source": [
    "# Loading the data from the status CSV file\n",
    "status_df = pd.read_csv('/Users/ymadigital/Downloads/TV Shows/TV Shows/status.csv')\n",
    "# Merging the shows data with the status data using 'status_id'\n",
    "shows_with_status_df = pd.merge(shows_df, status_df, on='status_id')\n",
    "\n",
    "# Analyzing the popularity of TV shows based on their production status\n",
    "# Calculating the average popularity for each status\n",
    "status_popularity = shows_with_status_df.groupby('status_name')['popularity'].mean().sort_values(ascending=False)\n",
    "\n",
    "# Displaying the average popularity based on production status\n",
    "status_popularity"
   ]
  },
  {
   "cell_type": "markdown",
   "metadata": {},
   "source": [
    "Interestingly, shows that are categorized as \"Canceled\" have the highest average popularity, followed by \"Ended\" and \"Returning Series.\" Shows that are \"In Production,\" \"Pilot,\" or \"Planned\" tend to have lower average popularity.\n",
    "\n",
    "This analysis provides insights into how the status of a show correlates with its popularity. It might suggest that shows gain more recognition and popularity over time, even after they have ended or been canceled."
   ]
  },
  {
   "cell_type": "markdown",
   "metadata": {},
   "source": [
    "# Develop a Language Analysis Model to Identify Sentiment or Themes from TV Show Overviews."
   ]
  },
  {
   "cell_type": "markdown",
   "metadata": {},
   "source": [
    "Use natural language processing techniques to analyze the overviews of TV shows.\n",
    "\n",
    "Develop a model to identify sentiments or common themes present in these overviews."
   ]
  },
  {
   "cell_type": "code",
   "execution_count": 47,
   "metadata": {},
   "outputs": [
    {
     "data": {
      "text/html": [
       "<div>\n",
       "<style scoped>\n",
       "    .dataframe tbody tr th:only-of-type {\n",
       "        vertical-align: middle;\n",
       "    }\n",
       "\n",
       "    .dataframe tbody tr th {\n",
       "        vertical-align: top;\n",
       "    }\n",
       "\n",
       "    .dataframe thead th {\n",
       "        text-align: right;\n",
       "    }\n",
       "</style>\n",
       "<table border=\"1\" class=\"dataframe\">\n",
       "  <thead>\n",
       "    <tr style=\"text-align: right;\">\n",
       "      <th></th>\n",
       "      <th>name</th>\n",
       "      <th>overview</th>\n",
       "    </tr>\n",
       "  </thead>\n",
       "  <tbody>\n",
       "    <tr>\n",
       "      <th>0</th>\n",
       "      <td>Game of Thrones</td>\n",
       "      <td>Seven noble families fight for control of the ...</td>\n",
       "    </tr>\n",
       "    <tr>\n",
       "      <th>1</th>\n",
       "      <td>Money Heist</td>\n",
       "      <td>To carry out the biggest heist in history  a m...</td>\n",
       "    </tr>\n",
       "    <tr>\n",
       "      <th>2</th>\n",
       "      <td>Stranger Things</td>\n",
       "      <td>When a young boy vanishes  a small town uncove...</td>\n",
       "    </tr>\n",
       "    <tr>\n",
       "      <th>3</th>\n",
       "      <td>The Walking Dead</td>\n",
       "      <td>Sheriff's deputy Rick Grimes awakens from a co...</td>\n",
       "    </tr>\n",
       "    <tr>\n",
       "      <th>4</th>\n",
       "      <td>Lucifer</td>\n",
       "      <td>Bored and unhappy as the Lord of Hell  Lucifer...</td>\n",
       "    </tr>\n",
       "  </tbody>\n",
       "</table>\n",
       "</div>"
      ],
      "text/plain": [
       "               name                                           overview\n",
       "0   Game of Thrones  Seven noble families fight for control of the ...\n",
       "1       Money Heist  To carry out the biggest heist in history  a m...\n",
       "2   Stranger Things  When a young boy vanishes  a small town uncove...\n",
       "3  The Walking Dead  Sheriff's deputy Rick Grimes awakens from a co...\n",
       "4           Lucifer  Bored and unhappy as the Lord of Hell  Lucifer..."
      ]
     },
     "execution_count": 47,
     "metadata": {},
     "output_type": "execute_result"
    }
   ],
   "source": [
    "# Extracting the overviews from the shows data\n",
    "show_overviews = shows_df[['name', 'overview']].dropna()\n",
    "\n",
    "# Previewing the first few overviews\n",
    "show_overviews_head = show_overviews.head()\n",
    "show_overviews_head"
   ]
  },
  {
   "cell_type": "markdown",
   "metadata": {},
   "source": [
    "# Explore Trends in TV Show Popularity Based on Air Dates."
   ]
  },
  {
   "cell_type": "markdown",
   "metadata": {},
   "source": [
    "Load and examine the data related to TV show air dates, likely from the air_dates.csv file.\n",
    "\n",
    "Merge this data with popularity metrics from shows.csv or show_votes.csv.\n",
    "\n",
    "Analyze trends in popularity based on the air dates of the shows."
   ]
  },
  {
   "cell_type": "code",
   "execution_count": 61,
   "metadata": {},
   "outputs": [
    {
     "data": {
      "text/html": [
       "<div>\n",
       "<style scoped>\n",
       "    .dataframe tbody tr th:only-of-type {\n",
       "        vertical-align: middle;\n",
       "    }\n",
       "\n",
       "    .dataframe tbody tr th {\n",
       "        vertical-align: top;\n",
       "    }\n",
       "\n",
       "    .dataframe thead th {\n",
       "        text-align: right;\n",
       "    }\n",
       "</style>\n",
       "<table border=\"1\" class=\"dataframe\">\n",
       "  <thead>\n",
       "    <tr style=\"text-align: right;\">\n",
       "      <th></th>\n",
       "      <th>show_id</th>\n",
       "      <th>name</th>\n",
       "      <th>number_of_seasons</th>\n",
       "      <th>number_of_episodes</th>\n",
       "      <th>overview</th>\n",
       "      <th>adult</th>\n",
       "      <th>in_production</th>\n",
       "      <th>original_name</th>\n",
       "      <th>popularity</th>\n",
       "      <th>tagline</th>\n",
       "      <th>eposide_run_time</th>\n",
       "      <th>type_id</th>\n",
       "      <th>status_id</th>\n",
       "      <th>is_first</th>\n",
       "      <th>date</th>\n",
       "    </tr>\n",
       "  </thead>\n",
       "  <tbody>\n",
       "    <tr>\n",
       "      <th>0</th>\n",
       "      <td>1399</td>\n",
       "      <td>Game of Thrones</td>\n",
       "      <td>8</td>\n",
       "      <td>73</td>\n",
       "      <td>Seven noble families fight for control of the ...</td>\n",
       "      <td>0</td>\n",
       "      <td>0</td>\n",
       "      <td>Game of Thrones</td>\n",
       "      <td>1083.917</td>\n",
       "      <td>Winter Is Coming</td>\n",
       "      <td>0</td>\n",
       "      <td>1</td>\n",
       "      <td>1</td>\n",
       "      <td>1</td>\n",
       "      <td>2011-04-17</td>\n",
       "    </tr>\n",
       "    <tr>\n",
       "      <th>1</th>\n",
       "      <td>1399</td>\n",
       "      <td>Game of Thrones</td>\n",
       "      <td>8</td>\n",
       "      <td>73</td>\n",
       "      <td>Seven noble families fight for control of the ...</td>\n",
       "      <td>0</td>\n",
       "      <td>0</td>\n",
       "      <td>Game of Thrones</td>\n",
       "      <td>1083.917</td>\n",
       "      <td>Winter Is Coming</td>\n",
       "      <td>0</td>\n",
       "      <td>1</td>\n",
       "      <td>1</td>\n",
       "      <td>0</td>\n",
       "      <td>2019-05-19</td>\n",
       "    </tr>\n",
       "    <tr>\n",
       "      <th>2</th>\n",
       "      <td>71446</td>\n",
       "      <td>Money Heist</td>\n",
       "      <td>3</td>\n",
       "      <td>41</td>\n",
       "      <td>To carry out the biggest heist in history  a m...</td>\n",
       "      <td>0</td>\n",
       "      <td>0</td>\n",
       "      <td>La Casa de Papel</td>\n",
       "      <td>96.354</td>\n",
       "      <td>The perfect robbery.</td>\n",
       "      <td>70</td>\n",
       "      <td>1</td>\n",
       "      <td>1</td>\n",
       "      <td>1</td>\n",
       "      <td>2017-05-02</td>\n",
       "    </tr>\n",
       "    <tr>\n",
       "      <th>3</th>\n",
       "      <td>71446</td>\n",
       "      <td>Money Heist</td>\n",
       "      <td>3</td>\n",
       "      <td>41</td>\n",
       "      <td>To carry out the biggest heist in history  a m...</td>\n",
       "      <td>0</td>\n",
       "      <td>0</td>\n",
       "      <td>La Casa de Papel</td>\n",
       "      <td>96.354</td>\n",
       "      <td>The perfect robbery.</td>\n",
       "      <td>70</td>\n",
       "      <td>1</td>\n",
       "      <td>1</td>\n",
       "      <td>0</td>\n",
       "      <td>2021-12-03</td>\n",
       "    </tr>\n",
       "    <tr>\n",
       "      <th>4</th>\n",
       "      <td>66732</td>\n",
       "      <td>Stranger Things</td>\n",
       "      <td>4</td>\n",
       "      <td>34</td>\n",
       "      <td>When a young boy vanishes  a small town uncove...</td>\n",
       "      <td>0</td>\n",
       "      <td>1</td>\n",
       "      <td>Stranger Things</td>\n",
       "      <td>185.711</td>\n",
       "      <td>Every ending has a beginning.</td>\n",
       "      <td>0</td>\n",
       "      <td>1</td>\n",
       "      <td>2</td>\n",
       "      <td>1</td>\n",
       "      <td>2016-07-15</td>\n",
       "    </tr>\n",
       "  </tbody>\n",
       "</table>\n",
       "</div>"
      ],
      "text/plain": [
       "   show_id             name  number_of_seasons  number_of_episodes  \\\n",
       "0     1399  Game of Thrones                  8                  73   \n",
       "1     1399  Game of Thrones                  8                  73   \n",
       "2    71446      Money Heist                  3                  41   \n",
       "3    71446      Money Heist                  3                  41   \n",
       "4    66732  Stranger Things                  4                  34   \n",
       "\n",
       "                                            overview  adult  in_production  \\\n",
       "0  Seven noble families fight for control of the ...      0              0   \n",
       "1  Seven noble families fight for control of the ...      0              0   \n",
       "2  To carry out the biggest heist in history  a m...      0              0   \n",
       "3  To carry out the biggest heist in history  a m...      0              0   \n",
       "4  When a young boy vanishes  a small town uncove...      0              1   \n",
       "\n",
       "      original_name  popularity                        tagline  \\\n",
       "0   Game of Thrones    1083.917               Winter Is Coming   \n",
       "1   Game of Thrones    1083.917               Winter Is Coming   \n",
       "2  La Casa de Papel      96.354           The perfect robbery.   \n",
       "3  La Casa de Papel      96.354           The perfect robbery.   \n",
       "4   Stranger Things     185.711  Every ending has a beginning.   \n",
       "\n",
       "   eposide_run_time  type_id  status_id  is_first        date  \n",
       "0                 0        1          1         1  2011-04-17  \n",
       "1                 0        1          1         0  2019-05-19  \n",
       "2                70        1          1         1  2017-05-02  \n",
       "3                70        1          1         0  2021-12-03  \n",
       "4                 0        1          2         1  2016-07-15  "
      ]
     },
     "execution_count": 61,
     "metadata": {},
     "output_type": "execute_result"
    }
   ],
   "source": [
    "# Loading the data from the air dates CSV file\n",
    "air_dates_df = pd.read_csv('/Users/ymadigital/Downloads/TV Shows/TV Shows/air_dates.csv')\n",
    "\n",
    "# Merging the air dates data with the shows data (which includes popularity)\n",
    "shows_air_dates_df = pd.merge(shows_df, air_dates_df, on='show_id')\n",
    "\n",
    "# Previewing the merged data to understand its structure\n",
    "shows_air_dates_head = shows_air_dates_df.head()\n",
    "shows_air_dates_head"
   ]
  },
  {
   "cell_type": "code",
   "execution_count": 62,
   "metadata": {},
   "outputs": [
    {
     "data": {
      "text/plain": [
       "air_year\n",
       "1952.0    27.479589\n",
       "1962.0    21.828490\n",
       "1960.0    16.106821\n",
       "1951.0    15.273000\n",
       "1963.0    13.586554\n",
       "1964.0    13.452274\n",
       "1968.0    12.965592\n",
       "1957.0    11.762017\n",
       "2023.0    11.605117\n",
       "1959.0    10.811453\n",
       "Name: popularity, dtype: float64"
      ]
     },
     "execution_count": 62,
     "metadata": {},
     "output_type": "execute_result"
    }
   ],
   "source": [
    "# Converting the 'date' column to datetime format\n",
    "shows_air_dates_df['date'] = pd.to_datetime(shows_air_dates_df['date'])\n",
    "\n",
    "# Extracting the year from the air date\n",
    "shows_air_dates_df['air_year'] = shows_air_dates_df['date'].dt.year\n",
    "\n",
    "# Aggregating average popularity by air year\n",
    "yearly_popularity_trends = shows_air_dates_df.groupby('air_year')['popularity'].mean().sort_values(ascending=False)\n",
    "\n",
    "yearly_popularity_trends.head(10)\n"
   ]
  },
  {
   "cell_type": "markdown",
   "metadata": {},
   "source": [
    "This analysis suggests that TV shows from a wide range of years have achieved varying levels of popularity. Interestingly, some older shows (from the 1950s and 1960s) and shows from the year 2023  exhibit high average popularity."
   ]
  },
  {
   "cell_type": "markdown",
   "metadata": {},
   "source": [
    "# Developing a Language Analysis Model for TV Show Overviews"
   ]
  },
  {
   "cell_type": "code",
   "execution_count": 64,
   "metadata": {},
   "outputs": [
    {
     "name": "stdout",
     "output_type": "stream",
     "text": [
      "Topic 0:\n",
      "life world love people day lives time friends like best\n",
      "Topic 1:\n",
      "series game love life television drama college stories story make\n",
      "Topic 2:\n",
      "series television aired life tv drama episode american broadcast school\n",
      "Topic 3:\n",
      "series television aired produced program tv news network american episodes\n",
      "Topic 4:\n",
      "family life young world new series planet year live time\n"
     ]
    }
   ],
   "source": [
    "from sklearn.feature_extraction.text import CountVectorizer\n",
    "from sklearn.decomposition import LatentDirichletAllocation\n",
    "import numpy as np\n",
    "\n",
    "# For demonstration, we'll use a subset of the TV show overviews\n",
    "overview_subset = show_overviews['overview'].sample(n=1000, random_state=1)\n",
    "\n",
    "# Using CountVectorizer to convert text overviews to a matrix of token counts\n",
    "vectorizer = CountVectorizer(max_df=0.95, min_df=2, stop_words='english')\n",
    "X = vectorizer.fit_transform(overview_subset)\n",
    "\n",
    "# Applying LDA for topic modeling\n",
    "lda = LatentDirichletAllocation(n_components=5, random_state=0)\n",
    "lda.fit(X)\n",
    "\n",
    "# Function to display top words for each topic\n",
    "def display_topics(model, feature_names, no_top_words):\n",
    "    for topic_idx, topic in enumerate(model.components_):\n",
    "        print(\"Topic %d:\" % (topic_idx))\n",
    "        print(\" \".join([feature_names[i] for i in topic.argsort()[:-no_top_words - 1:-1]]))\n",
    "\n",
    "# Displaying the top words for each topic\n",
    "display_topics(lda, vectorizer.get_feature_names_out(), 10)"
   ]
  },
  {
   "cell_type": "markdown",
   "metadata": {},
   "source": [
    "# Build a TV Show Recommendation System"
   ]
  },
  {
   "cell_type": "code",
   "execution_count": 100,
   "metadata": {},
   "outputs": [
    {
     "data": {
      "text/html": [
       "<div>\n",
       "<style scoped>\n",
       "    .dataframe tbody tr th:only-of-type {\n",
       "        vertical-align: middle;\n",
       "    }\n",
       "\n",
       "    .dataframe tbody tr th {\n",
       "        vertical-align: top;\n",
       "    }\n",
       "\n",
       "    .dataframe thead th {\n",
       "        text-align: right;\n",
       "    }\n",
       "</style>\n",
       "<table border=\"1\" class=\"dataframe\">\n",
       "  <thead>\n",
       "    <tr style=\"text-align: right;\">\n",
       "      <th></th>\n",
       "      <th>name</th>\n",
       "      <th>genre_name</th>\n",
       "    </tr>\n",
       "  </thead>\n",
       "  <tbody>\n",
       "    <tr>\n",
       "      <th>0</th>\n",
       "      <td>Moses and the Ten Commandments</td>\n",
       "      <td>History</td>\n",
       "    </tr>\n",
       "    <tr>\n",
       "      <th>1</th>\n",
       "      <td>The Hollow Crown</td>\n",
       "      <td>History</td>\n",
       "    </tr>\n",
       "    <tr>\n",
       "      <th>2</th>\n",
       "      <td>The Great Queen Seondeok</td>\n",
       "      <td>History</td>\n",
       "    </tr>\n",
       "    <tr>\n",
       "      <th>3</th>\n",
       "      <td>The Roosevelts: An Intimate History</td>\n",
       "      <td>History</td>\n",
       "    </tr>\n",
       "    <tr>\n",
       "      <th>4</th>\n",
       "      <td>The King's Face</td>\n",
       "      <td>History</td>\n",
       "    </tr>\n",
       "    <tr>\n",
       "      <th>5</th>\n",
       "      <td>Michael Strogoff</td>\n",
       "      <td>History</td>\n",
       "    </tr>\n",
       "    <tr>\n",
       "      <th>6</th>\n",
       "      <td>The Odyssey</td>\n",
       "      <td>History</td>\n",
       "    </tr>\n",
       "    <tr>\n",
       "      <th>7</th>\n",
       "      <td>Empire</td>\n",
       "      <td>History</td>\n",
       "    </tr>\n",
       "    <tr>\n",
       "      <th>8</th>\n",
       "      <td>Hwajung</td>\n",
       "      <td>History</td>\n",
       "    </tr>\n",
       "    <tr>\n",
       "      <th>9</th>\n",
       "      <td>Bichunmoo</td>\n",
       "      <td>History</td>\n",
       "    </tr>\n",
       "  </tbody>\n",
       "</table>\n",
       "</div>"
      ],
      "text/plain": [
       "                                  name genre_name\n",
       "0       Moses and the Ten Commandments    History\n",
       "1                     The Hollow Crown    History\n",
       "2             The Great Queen Seondeok    History\n",
       "3  The Roosevelts: An Intimate History    History\n",
       "4                      The King's Face    History\n",
       "5                     Michael Strogoff    History\n",
       "6                          The Odyssey    History\n",
       "7                               Empire    History\n",
       "8                              Hwajung    History\n",
       "9                            Bichunmoo    History"
      ]
     },
     "execution_count": 100,
     "metadata": {},
     "output_type": "execute_result"
    }
   ],
   "source": [
    "# Loading the genre types data for the mapping\n",
    "genre_types_df = pd.read_csv('/Users/ymadigital/Downloads/TV Shows/TV Shows/genre_types.csv')\n",
    "\n",
    "# Merging the genres and languages data with the shows data\n",
    "shows_genres_df = pd.merge(shows_df, genres_df, on='show_id')\n",
    "shows_languages_df = pd.merge(shows_df, languages_df, on='show_id')\n",
    "\n",
    "# Merging the genre data with the genre types to get the genre names\n",
    "shows_genres_full_df = pd.merge(shows_genres_df, genre_types_df, on='genre_type_id')\n",
    "\n",
    "# Sample user preferences\n",
    "user_favorite_genres = ['History']\n",
    "user_favorite_languages = ['en']\n",
    "\n",
    "# Filtering shows based on user's favorite genres\n",
    "filtered_by_genre = shows_genres_full_df[shows_genres_full_df['genre_name'].isin(user_favorite_genres)]\n",
    "\n",
    "# Since we don't have a direct mapping for languages, we'll skip language filtering for now\n",
    "# Combining the filters (currently only genre-based)\n",
    "filtered_shows = filtered_by_genre.drop_duplicates().reset_index(drop=True)\n",
    "\n",
    "# Previewing the recommended shows based on the filters\n",
    "recommended_shows = filtered_shows[['name', 'genre_name']].head(10)\n",
    "recommended_shows\n"
   ]
  }
 ],
 "metadata": {
  "kernelspec": {
   "display_name": "Python 3",
   "language": "python",
   "name": "python3"
  },
  "language_info": {
   "codemirror_mode": {
    "name": "ipython",
    "version": 3
   },
   "file_extension": ".py",
   "mimetype": "text/x-python",
   "name": "python",
   "nbconvert_exporter": "python",
   "pygments_lexer": "ipython3",
   "version": "3.11.5"
  }
 },
 "nbformat": 4,
 "nbformat_minor": 2
}
